{
 "cells": [
  {
   "cell_type": "code",
   "execution_count": 1,
   "id": "da9ae8c6",
   "metadata": {},
   "outputs": [],
   "source": [
    "data = [[{'context': {'role': 'user', 'content': 'Let\\'s play a guessing game. Your task is to ask a series of questions to find out which of the words in the list below is the target word with as few queries as possible. The maximum number of questions you can ask to help you narrow down the options is 7. Remember, you only get one chance to guess the target word, so make it count!\\n\\nThe rules of the game are: \\n\\n1. Only ask one question per turn. DO NOT ASK MORE THAN ONE QUESTION.\\n\\n2. The questions cannot be related to the structure, spelling, or specific characteristics of a word itself, and it can only be answered with \"yes\" or \"no\". \\n\\n3. Use the following format for asking questions and DO NOT ADD ANY TEXT OTHER THAN THIS: \\n\\nQUESTION: <your question>\\n\\n4. You have only one opportunity to guess the target word. To make your guess, use the following format and DO NOT ADD ANY TEXT OTHER THAN THIS: \\n\\nGUESS: <target word>\\n\\nRemember you cannot ask for a hint. Make your question brief. Let’s start!\\n\\nList of candidate words: [\\'Copper\\', \\'Lead\\', \\'Pepsi\\', \\'Lemonade\\', \\'Carbon\\', \\'Gold\\', \\'Chair\\', \\'Dresser\\']'}, 'response': 'QUESTION: Is the target word something that can be held in your hand?', 'done': False, 'info': {'response_score': 0, 'response_feedback': None}}, {'context': {'role': 'user', 'content': \"Let’s play a guessing game! Your task is to answer the other player's questions. Based on your knowledge of the word: Pepsi, respond to the following questions or guesses. Limit your response to only 'yes' or 'no' with no explanation or other words. Never reveal the answer in your response.\\n\\nYou must reply using the format below and DO NOT ADD ANY TEXT OTHER THAN THIS:\\n\\nANSWER: <some text>\\n\\nTarget Word: Pepsi\\n\\nQUESTION: Is the target word something that can be held in your hand?\"}, 'response': 'ANSWER: yes', 'done': False, 'info': {'response_score': 0, 'response_feedback': None}}, {'context': {'role': 'user', 'content': 'ANSWER: yes'}, 'response': 'QUESTION: Is the target word man-made?', 'done': False, 'info': {'response_score': 0, 'response_feedback': None}}, {'context': {'role': 'user', 'content': 'QUESTION: Is the target word man-made?'}, 'response': 'ANSWER: yes', 'done': False, 'info': {'response_score': 0, 'response_feedback': None}}, {'context': {'role': 'user', 'content': 'ANSWER: yes'}, 'response': 'QUESTION: Is the target word used for consumption?', 'done': False, 'info': {'response_score': 0, 'response_feedback': None}}, {'context': {'role': 'user', 'content': 'QUESTION: Is the target word used for consumption?'}, 'response': 'ANSWER: yes', 'done': False, 'info': {'response_score': 0, 'response_feedback': None}}, {'context': {'role': 'user', 'content': 'ANSWER: yes'}, 'response': 'QUESTION: Is the target word a type of drink?', 'done': False, 'info': {'response_score': 0, 'response_feedback': None}}, {'context': {'role': 'user', 'content': 'QUESTION: Is the target word a type of drink?'}, 'response': 'ANSWER: yes', 'done': False, 'info': {'response_score': 0, 'response_feedback': None}}, {'context': {'role': 'user', 'content': 'ANSWER: yes'}, 'response': 'QUESTION: Is the target word a carbonated drink?', 'done': False, 'info': {'response_score': 0, 'response_feedback': None}}, {'context': {'role': 'user', 'content': 'QUESTION: Is the target word a carbonated drink?'}, 'response': 'ANSWER: yes', 'done': False, 'info': {'response_score': 0, 'response_feedback': None}}, {'context': {'role': 'user', 'content': 'ANSWER: yes'}, 'response': 'QUESTION: Is the target word commonly found in stores?', 'done': False, 'info': {'response_score': 0, 'response_feedback': None}}, {'context': {'role': 'user', 'content': 'QUESTION: Is the target word commonly found in stores?'}, 'response': 'ANSWER: yes', 'done': False, 'info': {'response_score': 0, 'response_feedback': None}}, {'context': {'role': 'user', 'content': 'ANSWER: yes'}, 'response': 'QUESTION: Is the target word a popular cola brand?', 'done': False, 'info': {'response_score': 0, 'response_feedback': None}}, {'context': {'role': 'user', 'content': 'QUESTION: Is the target word a popular cola brand?'}, 'response': 'ANSWER: yes', 'done': False, 'info': {'response_score': 0, 'response_feedback': None}}, {'context': {'role': 'user', 'content': 'ANSWER: yes'}, 'response': 'GUESS: Pepsi', 'done': True, 'info': {'response_score': 0, 'response_feedback': None, 'episode_score': 0}}], [{'context': {'role': 'user', 'content': 'Let\\'s play a guessing game. Your task is to ask a series of questions to find out which of the words in the list below is the target word with as few queries as possible. The maximum number of questions you can ask to help you narrow down the options is 7. Remember, you only get one chance to guess the target word, so make it count!\\n\\nThe rules of the game are: \\n\\n1. Only ask one question per turn. DO NOT ASK MORE THAN ONE QUESTION.\\n\\n2. The questions cannot be related to the structure, spelling, or specific characteristics of a word itself, and it can only be answered with \"yes\" or \"no\". \\n\\n3. Use the following format for asking questions and DO NOT ADD ANY TEXT OTHER THAN THIS: \\n\\nQUESTION: <your question>\\n\\n4. You have only one opportunity to guess the target word. To make your guess, use the following format and DO NOT ADD ANY TEXT OTHER THAN THIS: \\n\\nGUESS: <target word>\\n\\nRemember you cannot ask for a hint. Make your question brief. Let’s start!\\n\\nList of candidate words: [\\'Eon\\', \\'Year\\', \\'Ethanol\\', \\'Wind\\', \\'Guitar\\', \\'Clarinet\\', \\'Silver\\', \\'Platinum\\']'}, 'response': 'QUESTION: Is the target word something that can be held in your hand?', 'done': False, 'info': {'response_score': 0, 'response_feedback': None}}, {'context': {'role': 'user', 'content': \"Let’s play a guessing game! Your task is to answer the other player's questions. Based on your knowledge of the word: Platinum, respond to the following questions or guesses. Limit your response to only 'yes' or 'no' with no explanation or other words. Never reveal the answer in your response.\\n\\nYou must reply using the format below and DO NOT ADD ANY TEXT OTHER THAN THIS:\\n\\nANSWER: <some text>\\n\\nTarget Word: Platinum\\n\\nQUESTION: Is the target word something that can be held in your hand?\"}, 'response': 'ANSWER: Yes', 'done': False, 'info': {'response_score': 0, 'response_feedback': None}}, {'context': {'role': 'user', 'content': 'ANSWER: Yes'}, 'response': 'QUESTION: Is the target word man-made?', 'done': False, 'info': {'response_score': 0, 'response_feedback': None}}, {'context': {'role': 'user', 'content': 'QUESTION: Is the target word man-made?'}, 'response': 'ANSWER: Yes', 'done': False, 'info': {'response_score': 0, 'response_feedback': None}}, {'context': {'role': 'user', 'content': 'ANSWER: Yes'}, 'response': 'QUESTION: Is the target word primarily used for entertainment?', 'done': False, 'info': {'response_score': 0, 'response_feedback': None}}, {'context': {'role': 'user', 'content': 'QUESTION: Is the target word primarily used for entertainment?'}, 'response': 'ANSWER: No', 'done': False, 'info': {'response_score': 0, 'response_feedback': None}}, {'context': {'role': 'user', 'content': 'ANSWER: No'}, 'response': 'QUESTION: Is the target word used for a purpose related to music?', 'done': False, 'info': {'response_score': 0, 'response_feedback': None}}, {'context': {'role': 'user', 'content': 'QUESTION: Is the target word used for a purpose related to music?'}, 'response': 'ANSWER: Yes', 'done': False, 'info': {'response_score': 0, 'response_feedback': None}}, {'context': {'role': 'user', 'content': 'ANSWER: Yes'}, 'response': 'QUESTION: Is the target word typically played by blowing air through it?', 'done': False, 'info': {'response_score': 0, 'response_feedback': None}}, {'context': {'role': 'user', 'content': 'QUESTION: Is the target word typically played by blowing air through it?'}, 'response': 'ANSWER: No', 'done': False, 'info': {'response_score': 0, 'response_feedback': None}}, {'context': {'role': 'user', 'content': 'ANSWER: No'}, 'response': 'QUESTION: Is the target word a stringed instrument?', 'done': False, 'info': {'response_score': 0, 'response_feedback': None}}, {'context': {'role': 'user', 'content': 'QUESTION: Is the target word a stringed instrument?'}, 'response': 'ANSWER: No', 'done': False, 'info': {'response_score': 0, 'response_feedback': None}}, {'context': {'role': 'user', 'content': 'ANSWER: No'}, 'response': 'QUESTION: Is the target word typically made of metal?', 'done': False, 'info': {'response_score': 0, 'response_feedback': None}}, {'context': {'role': 'user', 'content': 'QUESTION: Is the target word typically made of metal?'}, 'response': 'ANSWER: Yes', 'done': False, 'info': {'response_score': 0, 'response_feedback': None}}, {'context': {'role': 'user', 'content': 'ANSWER: Yes'}, 'response': 'GUESS: Clarinet', 'done': True, 'info': {'response_score': 0, 'response_feedback': None, 'episode_score': 0}}], [{'context': {'role': 'user', 'content': 'Let\\'s play a guessing game. Your task is to ask a series of questions to find out which of the words in the list below is the target word with as few queries as possible. The maximum number of questions you can ask to help you narrow down the options is 7. Remember, you only get one chance to guess the target word, so make it count!\\n\\nThe rules of the game are: \\n\\n1. Only ask one question per turn. DO NOT ASK MORE THAN ONE QUESTION.\\n\\n2. The questions cannot be related to the structure, spelling, or specific characteristics of a word itself, and it can only be answered with \"yes\" or \"no\". \\n\\n3. Use the following format for asking questions and DO NOT ADD ANY TEXT OTHER THAN THIS: \\n\\nQUESTION: <your question>\\n\\n4. You have only one opportunity to guess the target word. To make your guess, use the following format and DO NOT ADD ANY TEXT OTHER THAN THIS: \\n\\nGUESS: <target word>\\n\\nRemember you cannot ask for a hint. Make your question brief. Let’s start!\\n\\nList of candidate words: [\\'Elder\\', \\'Minister\\', \\'Cannon\\', \\'Grenade\\', \\'Organ\\', \\'Bass\\', \\'Stairs\\', \\'Pencil\\']'}, 'response': 'QUESTION: Is the target word something that can be held in your hand?', 'done': False, 'info': {'response_score': 0, 'response_feedback': None}}, {'context': {'role': 'user', 'content': \"Let’s play a guessing game! Your task is to answer the other player's questions. Based on your knowledge of the word: Bass, respond to the following questions or guesses. Limit your response to only 'yes' or 'no' with no explanation or other words. Never reveal the answer in your response.\\n\\nYou must reply using the format below and DO NOT ADD ANY TEXT OTHER THAN THIS:\\n\\nANSWER: <some text>\\n\\nTarget Word: Bass\\n\\nQUESTION: Is the target word something that can be held in your hand?\"}, 'response': 'ANSWER: No', 'done': False, 'info': {'response_score': 0, 'response_feedback': None}}]]\n"
   ]
  },
  {
   "cell_type": "code",
   "execution_count": 6,
   "id": "1740b7c6",
   "metadata": {},
   "outputs": [],
   "source": [
    "item = data[0]"
   ]
  },
  {
   "cell_type": "code",
   "execution_count": 10,
   "id": "7754abec",
   "metadata": {},
   "outputs": [
    {
     "data": {
      "text/plain": [
       "{'context': {'role': 'user',\n",
       "  'content': 'Let\\'s play a guessing game. Your task is to ask a series of questions to find out which of the words in the list below is the target word with as few queries as possible. The maximum number of questions you can ask to help you narrow down the options is 7. Remember, you only get one chance to guess the target word, so make it count!\\n\\nThe rules of the game are: \\n\\n1. Only ask one question per turn. DO NOT ASK MORE THAN ONE QUESTION.\\n\\n2. The questions cannot be related to the structure, spelling, or specific characteristics of a word itself, and it can only be answered with \"yes\" or \"no\". \\n\\n3. Use the following format for asking questions and DO NOT ADD ANY TEXT OTHER THAN THIS: \\n\\nQUESTION: <your question>\\n\\n4. You have only one opportunity to guess the target word. To make your guess, use the following format and DO NOT ADD ANY TEXT OTHER THAN THIS: \\n\\nGUESS: <target word>\\n\\nRemember you cannot ask for a hint. Make your question brief. Let’s start!\\n\\nList of candidate words: [\\'Copper\\', \\'Lead\\', \\'Pepsi\\', \\'Lemonade\\', \\'Carbon\\', \\'Gold\\', \\'Chair\\', \\'Dresser\\']'},\n",
       " 'response': 'QUESTION: Is the target word something that can be held in your hand?',\n",
       " 'done': False,\n",
       " 'info': {'response_score': 0, 'response_feedback': None}}"
      ]
     },
     "execution_count": 10,
     "metadata": {},
     "output_type": "execute_result"
    }
   ],
   "source": [
    "item[0]"
   ]
  },
  {
   "cell_type": "code",
   "execution_count": 11,
   "id": "12ef1d54",
   "metadata": {},
   "outputs": [
    {
     "data": {
      "text/plain": [
       "{'context': {'role': 'user',\n",
       "  'content': \"Let’s play a guessing game! Your task is to answer the other player's questions. Based on your knowledge of the word: Pepsi, respond to the following questions or guesses. Limit your response to only 'yes' or 'no' with no explanation or other words. Never reveal the answer in your response.\\n\\nYou must reply using the format below and DO NOT ADD ANY TEXT OTHER THAN THIS:\\n\\nANSWER: <some text>\\n\\nTarget Word: Pepsi\\n\\nQUESTION: Is the target word something that can be held in your hand?\"},\n",
       " 'response': 'ANSWER: yes',\n",
       " 'done': False,\n",
       " 'info': {'response_score': 0, 'response_feedback': None}}"
      ]
     },
     "execution_count": 11,
     "metadata": {},
     "output_type": "execute_result"
    }
   ],
   "source": [
    "item[1]"
   ]
  },
  {
   "cell_type": "code",
   "execution_count": 12,
   "id": "2a097dcb",
   "metadata": {},
   "outputs": [
    {
     "data": {
      "text/plain": [
       "{'context': {'role': 'user', 'content': 'ANSWER: yes'},\n",
       " 'response': 'QUESTION: Is the target word man-made?',\n",
       " 'done': False,\n",
       " 'info': {'response_score': 0, 'response_feedback': None}}"
      ]
     },
     "execution_count": 12,
     "metadata": {},
     "output_type": "execute_result"
    }
   ],
   "source": [
    "item[2]"
   ]
  },
  {
   "cell_type": "code",
   "execution_count": 15,
   "id": "2f74437b",
   "metadata": {},
   "outputs": [
    {
     "data": {
      "text/plain": [
       "[{'context': {'role': 'user',\n",
       "   'content': 'Let\\'s play a guessing game. Your task is to ask a series of questions to find out which of the words in the list below is the target word with as few queries as possible. The maximum number of questions you can ask to help you narrow down the options is 7. Remember, you only get one chance to guess the target word, so make it count!\\n\\nThe rules of the game are: \\n\\n1. Only ask one question per turn. DO NOT ASK MORE THAN ONE QUESTION.\\n\\n2. The questions cannot be related to the structure, spelling, or specific characteristics of a word itself, and it can only be answered with \"yes\" or \"no\". \\n\\n3. Use the following format for asking questions and DO NOT ADD ANY TEXT OTHER THAN THIS: \\n\\nQUESTION: <your question>\\n\\n4. You have only one opportunity to guess the target word. To make your guess, use the following format and DO NOT ADD ANY TEXT OTHER THAN THIS: \\n\\nGUESS: <target word>\\n\\nRemember you cannot ask for a hint. Make your question brief. Let’s start!\\n\\nList of candidate words: [\\'Copper\\', \\'Lead\\', \\'Pepsi\\', \\'Lemonade\\', \\'Carbon\\', \\'Gold\\', \\'Chair\\', \\'Dresser\\']'},\n",
       "  'response': 'QUESTION: Is the target word something that can be held in your hand?',\n",
       "  'done': False,\n",
       "  'info': {'response_score': 0, 'response_feedback': None}},\n",
       " {'context': {'role': 'user',\n",
       "   'content': \"Let’s play a guessing game! Your task is to answer the other player's questions. Based on your knowledge of the word: Pepsi, respond to the following questions or guesses. Limit your response to only 'yes' or 'no' with no explanation or other words. Never reveal the answer in your response.\\n\\nYou must reply using the format below and DO NOT ADD ANY TEXT OTHER THAN THIS:\\n\\nANSWER: <some text>\\n\\nTarget Word: Pepsi\\n\\nQUESTION: Is the target word something that can be held in your hand?\"},\n",
       "  'response': 'ANSWER: yes',\n",
       "  'done': False,\n",
       "  'info': {'response_score': 0, 'response_feedback': None}},\n",
       " {'context': {'role': 'user', 'content': 'ANSWER: yes'},\n",
       "  'response': 'QUESTION: Is the target word man-made?',\n",
       "  'done': False,\n",
       "  'info': {'response_score': 0, 'response_feedback': None}},\n",
       " {'context': {'role': 'user',\n",
       "   'content': 'QUESTION: Is the target word man-made?'},\n",
       "  'response': 'ANSWER: yes',\n",
       "  'done': False,\n",
       "  'info': {'response_score': 0, 'response_feedback': None}},\n",
       " {'context': {'role': 'user', 'content': 'ANSWER: yes'},\n",
       "  'response': 'QUESTION: Is the target word used for consumption?',\n",
       "  'done': False,\n",
       "  'info': {'response_score': 0, 'response_feedback': None}},\n",
       " {'context': {'role': 'user',\n",
       "   'content': 'QUESTION: Is the target word used for consumption?'},\n",
       "  'response': 'ANSWER: yes',\n",
       "  'done': False,\n",
       "  'info': {'response_score': 0, 'response_feedback': None}},\n",
       " {'context': {'role': 'user', 'content': 'ANSWER: yes'},\n",
       "  'response': 'QUESTION: Is the target word a type of drink?',\n",
       "  'done': False,\n",
       "  'info': {'response_score': 0, 'response_feedback': None}},\n",
       " {'context': {'role': 'user',\n",
       "   'content': 'QUESTION: Is the target word a type of drink?'},\n",
       "  'response': 'ANSWER: yes',\n",
       "  'done': False,\n",
       "  'info': {'response_score': 0, 'response_feedback': None}},\n",
       " {'context': {'role': 'user', 'content': 'ANSWER: yes'},\n",
       "  'response': 'QUESTION: Is the target word a carbonated drink?',\n",
       "  'done': False,\n",
       "  'info': {'response_score': 0, 'response_feedback': None}},\n",
       " {'context': {'role': 'user',\n",
       "   'content': 'QUESTION: Is the target word a carbonated drink?'},\n",
       "  'response': 'ANSWER: yes',\n",
       "  'done': False,\n",
       "  'info': {'response_score': 0, 'response_feedback': None}},\n",
       " {'context': {'role': 'user', 'content': 'ANSWER: yes'},\n",
       "  'response': 'QUESTION: Is the target word commonly found in stores?',\n",
       "  'done': False,\n",
       "  'info': {'response_score': 0, 'response_feedback': None}},\n",
       " {'context': {'role': 'user',\n",
       "   'content': 'QUESTION: Is the target word commonly found in stores?'},\n",
       "  'response': 'ANSWER: yes',\n",
       "  'done': False,\n",
       "  'info': {'response_score': 0, 'response_feedback': None}},\n",
       " {'context': {'role': 'user', 'content': 'ANSWER: yes'},\n",
       "  'response': 'QUESTION: Is the target word a popular cola brand?',\n",
       "  'done': False,\n",
       "  'info': {'response_score': 0, 'response_feedback': None}},\n",
       " {'context': {'role': 'user',\n",
       "   'content': 'QUESTION: Is the target word a popular cola brand?'},\n",
       "  'response': 'ANSWER: yes',\n",
       "  'done': False,\n",
       "  'info': {'response_score': 0, 'response_feedback': None}},\n",
       " {'context': {'role': 'user', 'content': 'ANSWER: yes'},\n",
       "  'response': 'GUESS: Pepsi',\n",
       "  'done': True,\n",
       "  'info': {'response_score': 0,\n",
       "   'response_feedback': None,\n",
       "   'episode_score': 0}}]"
      ]
     },
     "execution_count": 15,
     "metadata": {},
     "output_type": "execute_result"
    }
   ],
   "source": [
    "data[0]"
   ]
  },
  {
   "cell_type": "code",
   "execution_count": 19,
   "id": "9a04ce31",
   "metadata": {},
   "outputs": [
    {
     "name": "stdout",
     "output_type": "stream",
     "text": [
      "{'context': {'role': 'user', 'content': 'Let\\'s play a guessing game. Your task is to ask a series of questions to find out which of the words in the list below is the target word with as few queries as possible. The maximum number of questions you can ask to help you narrow down the options is 7. Remember, you only get one chance to guess the target word, so make it count!\\n\\nThe rules of the game are: \\n\\n1. Only ask one question per turn. DO NOT ASK MORE THAN ONE QUESTION.\\n\\n2. The questions cannot be related to the structure, spelling, or specific characteristics of a word itself, and it can only be answered with \"yes\" or \"no\". \\n\\n3. Use the following format for asking questions and DO NOT ADD ANY TEXT OTHER THAN THIS: \\n\\nQUESTION: <your question>\\n\\n4. You have only one opportunity to guess the target word. To make your guess, use the following format and DO NOT ADD ANY TEXT OTHER THAN THIS: \\n\\nGUESS: <target word>\\n\\nRemember you cannot ask for a hint. Make your question brief. Let’s start!\\n\\nList of candidate words: [\\'Eon\\', \\'Year\\', \\'Ethanol\\', \\'Wind\\', \\'Guitar\\', \\'Clarinet\\', \\'Silver\\', \\'Platinum\\']'}, 'response': 'QUESTION: Is the target word something that can be held in your hand?', 'done': False, 'info': {'response_score': 0, 'response_feedback': None}}\n",
      "{'context': {'role': 'user', 'content': \"Let’s play a guessing game! Your task is to answer the other player's questions. Based on your knowledge of the word: Platinum, respond to the following questions or guesses. Limit your response to only 'yes' or 'no' with no explanation or other words. Never reveal the answer in your response.\\n\\nYou must reply using the format below and DO NOT ADD ANY TEXT OTHER THAN THIS:\\n\\nANSWER: <some text>\\n\\nTarget Word: Platinum\\n\\nQUESTION: Is the target word something that can be held in your hand?\"}, 'response': 'ANSWER: Yes', 'done': False, 'info': {'response_score': 0, 'response_feedback': None}}\n",
      "{'context': {'role': 'user', 'content': 'ANSWER: Yes'}, 'response': 'QUESTION: Is the target word man-made?', 'done': False, 'info': {'response_score': 0, 'response_feedback': None}}\n",
      "{'context': {'role': 'user', 'content': 'QUESTION: Is the target word man-made?'}, 'response': 'ANSWER: Yes', 'done': False, 'info': {'response_score': 0, 'response_feedback': None}}\n",
      "{'context': {'role': 'user', 'content': 'ANSWER: Yes'}, 'response': 'QUESTION: Is the target word primarily used for entertainment?', 'done': False, 'info': {'response_score': 0, 'response_feedback': None}}\n",
      "{'context': {'role': 'user', 'content': 'QUESTION: Is the target word primarily used for entertainment?'}, 'response': 'ANSWER: No', 'done': False, 'info': {'response_score': 0, 'response_feedback': None}}\n",
      "{'context': {'role': 'user', 'content': 'ANSWER: No'}, 'response': 'QUESTION: Is the target word used for a purpose related to music?', 'done': False, 'info': {'response_score': 0, 'response_feedback': None}}\n",
      "{'context': {'role': 'user', 'content': 'QUESTION: Is the target word used for a purpose related to music?'}, 'response': 'ANSWER: Yes', 'done': False, 'info': {'response_score': 0, 'response_feedback': None}}\n",
      "{'context': {'role': 'user', 'content': 'ANSWER: Yes'}, 'response': 'QUESTION: Is the target word typically played by blowing air through it?', 'done': False, 'info': {'response_score': 0, 'response_feedback': None}}\n",
      "{'context': {'role': 'user', 'content': 'QUESTION: Is the target word typically played by blowing air through it?'}, 'response': 'ANSWER: No', 'done': False, 'info': {'response_score': 0, 'response_feedback': None}}\n",
      "{'context': {'role': 'user', 'content': 'ANSWER: No'}, 'response': 'QUESTION: Is the target word a stringed instrument?', 'done': False, 'info': {'response_score': 0, 'response_feedback': None}}\n",
      "{'context': {'role': 'user', 'content': 'QUESTION: Is the target word a stringed instrument?'}, 'response': 'ANSWER: No', 'done': False, 'info': {'response_score': 0, 'response_feedback': None}}\n",
      "{'context': {'role': 'user', 'content': 'ANSWER: No'}, 'response': 'QUESTION: Is the target word typically made of metal?', 'done': False, 'info': {'response_score': 0, 'response_feedback': None}}\n",
      "{'context': {'role': 'user', 'content': 'QUESTION: Is the target word typically made of metal?'}, 'response': 'ANSWER: Yes', 'done': False, 'info': {'response_score': 0, 'response_feedback': None}}\n",
      "{'context': {'role': 'user', 'content': 'ANSWER: Yes'}, 'response': 'GUESS: Clarinet', 'done': True, 'info': {'response_score': 0, 'response_feedback': None, 'episode_score': 0}}\n"
     ]
    }
   ],
   "source": [
    "for item in data[1]:\n",
    "    print(item)"
   ]
  },
  {
   "cell_type": "code",
   "execution_count": 17,
   "id": "4f500f5b",
   "metadata": {},
   "outputs": [
    {
     "data": {
      "text/plain": [
       "[{'context': {'role': 'user',\n",
       "   'content': 'Let\\'s play a guessing game. Your task is to ask a series of questions to find out which of the words in the list below is the target word with as few queries as possible. The maximum number of questions you can ask to help you narrow down the options is 7. Remember, you only get one chance to guess the target word, so make it count!\\n\\nThe rules of the game are: \\n\\n1. Only ask one question per turn. DO NOT ASK MORE THAN ONE QUESTION.\\n\\n2. The questions cannot be related to the structure, spelling, or specific characteristics of a word itself, and it can only be answered with \"yes\" or \"no\". \\n\\n3. Use the following format for asking questions and DO NOT ADD ANY TEXT OTHER THAN THIS: \\n\\nQUESTION: <your question>\\n\\n4. You have only one opportunity to guess the target word. To make your guess, use the following format and DO NOT ADD ANY TEXT OTHER THAN THIS: \\n\\nGUESS: <target word>\\n\\nRemember you cannot ask for a hint. Make your question brief. Let’s start!\\n\\nList of candidate words: [\\'Elder\\', \\'Minister\\', \\'Cannon\\', \\'Grenade\\', \\'Organ\\', \\'Bass\\', \\'Stairs\\', \\'Pencil\\']'},\n",
       "  'response': 'QUESTION: Is the target word something that can be held in your hand?',\n",
       "  'done': False,\n",
       "  'info': {'response_score': 0, 'response_feedback': None}},\n",
       " {'context': {'role': 'user',\n",
       "   'content': \"Let’s play a guessing game! Your task is to answer the other player's questions. Based on your knowledge of the word: Bass, respond to the following questions or guesses. Limit your response to only 'yes' or 'no' with no explanation or other words. Never reveal the answer in your response.\\n\\nYou must reply using the format below and DO NOT ADD ANY TEXT OTHER THAN THIS:\\n\\nANSWER: <some text>\\n\\nTarget Word: Bass\\n\\nQUESTION: Is the target word something that can be held in your hand?\"},\n",
       "  'response': 'ANSWER: No',\n",
       "  'done': False,\n",
       "  'info': {'response_score': 0, 'response_feedback': None}}]"
      ]
     },
     "execution_count": 17,
     "metadata": {},
     "output_type": "execute_result"
    }
   ],
   "source": [
    "data[2]"
   ]
  },
  {
   "cell_type": "code",
   "execution_count": 65,
   "id": "22126ede",
   "metadata": {},
   "outputs": [],
   "source": [
    "buff_output = [[{'context': [{'role': 'user', 'content': 'Let\\'s play a guessing game. Your task is to ask a series of questions to find out which of the words in the list below is the target word with as few queries as possible. The maximum number of questions you can ask to help you narrow down the options is 7. Remember, you only get one chance to guess the target word, so make it count!\\n\\nThe rules of the game are: \\n\\n1. Only ask one question per turn. DO NOT ASK MORE THAN ONE QUESTION.\\n\\n2. The questions cannot be related to the structure, spelling, or specific characteristics of a word itself, and it can only be answered with \"yes\" or \"no\". \\n\\n3. Use the following format for asking questions and DO NOT ADD ANY TEXT OTHER THAN THIS: \\n\\nQUESTION: <your question>\\n\\n4. You have only one opportunity to guess the target word. To make your guess, use the following format and DO NOT ADD ANY TEXT OTHER THAN THIS: \\n\\nGUESS: <target word>\\n\\nRemember you cannot ask for a hint. Make your question brief. Let’s start!\\n\\nList of candidate words: [\\'Copper\\', \\'Lead\\', \\'Pepsi\\', \\'Lemonade\\', \\'Carbon\\', \\'Gold\\', \\'Chair\\', \\'Dresser\\']'}, {'role': 'assistant', 'content': 'QUESTION: Is the target word something that can be held in your hand?'}], 'response': 'QUESTION: Is the target word something that can be held in your hand?', 'done': False, 'info': {'response_score': 0, 'response_feedback': None}}, {'context': [{'role': 'user', 'content': 'Let\\'s play a guessing game. Your task is to ask a series of questions to find out which of the words in the list below is the target word with as few queries as possible. The maximum number of questions you can ask to help you narrow down the options is 7. Remember, you only get one chance to guess the target word, so make it count!\\n\\nThe rules of the game are: \\n\\n1. Only ask one question per turn. DO NOT ASK MORE THAN ONE QUESTION.\\n\\n2. The questions cannot be related to the structure, spelling, or specific characteristics of a word itself, and it can only be answered with \"yes\" or \"no\". \\n\\n3. Use the following format for asking questions and DO NOT ADD ANY TEXT OTHER THAN THIS: \\n\\nQUESTION: <your question>\\n\\n4. You have only one opportunity to guess the target word. To make your guess, use the following format and DO NOT ADD ANY TEXT OTHER THAN THIS: \\n\\nGUESS: <target word>\\n\\nRemember you cannot ask for a hint. Make your question brief. Let’s start!\\n\\nList of candidate words: [\\'Copper\\', \\'Lead\\', \\'Pepsi\\', \\'Lemonade\\', \\'Carbon\\', \\'Gold\\', \\'Chair\\', \\'Dresser\\']'}, {'role': 'assistant', 'content': 'QUESTION: Is the target word something that can be held in your hand?'}, {'role': 'user', 'content': 'ANSWER: yes'}, {'role': 'assistant', 'content': 'QUESTION: Is the target word man-made?'}], 'response': 'QUESTION: Is the target word man-made?', 'done': False, 'info': {'response_score': 0, 'response_feedback': None}}, {'context': [{'role': 'user', 'content': 'Let\\'s play a guessing game. Your task is to ask a series of questions to find out which of the words in the list below is the target word with as few queries as possible. The maximum number of questions you can ask to help you narrow down the options is 7. Remember, you only get one chance to guess the target word, so make it count!\\n\\nThe rules of the game are: \\n\\n1. Only ask one question per turn. DO NOT ASK MORE THAN ONE QUESTION.\\n\\n2. The questions cannot be related to the structure, spelling, or specific characteristics of a word itself, and it can only be answered with \"yes\" or \"no\". \\n\\n3. Use the following format for asking questions and DO NOT ADD ANY TEXT OTHER THAN THIS: \\n\\nQUESTION: <your question>\\n\\n4. You have only one opportunity to guess the target word. To make your guess, use the following format and DO NOT ADD ANY TEXT OTHER THAN THIS: \\n\\nGUESS: <target word>\\n\\nRemember you cannot ask for a hint. Make your question brief. Let’s start!\\n\\nList of candidate words: [\\'Copper\\', \\'Lead\\', \\'Pepsi\\', \\'Lemonade\\', \\'Carbon\\', \\'Gold\\', \\'Chair\\', \\'Dresser\\']'}, {'role': 'assistant', 'content': 'QUESTION: Is the target word something that can be held in your hand?'}, {'role': 'user', 'content': 'ANSWER: yes'}, {'role': 'assistant', 'content': 'QUESTION: Is the target word man-made?'}, {'role': 'user', 'content': 'ANSWER: yes'}, {'role': 'assistant', 'content': 'QUESTION: Is the target word used for consumption?'}], 'response': 'QUESTION: Is the target word used for consumption?', 'done': False, 'info': {'response_score': 0, 'response_feedback': None}}, {'context': [{'role': 'user', 'content': 'Let\\'s play a guessing game. Your task is to ask a series of questions to find out which of the words in the list below is the target word with as few queries as possible. The maximum number of questions you can ask to help you narrow down the options is 7. Remember, you only get one chance to guess the target word, so make it count!\\n\\nThe rules of the game are: \\n\\n1. Only ask one question per turn. DO NOT ASK MORE THAN ONE QUESTION.\\n\\n2. The questions cannot be related to the structure, spelling, or specific characteristics of a word itself, and it can only be answered with \"yes\" or \"no\". \\n\\n3. Use the following format for asking questions and DO NOT ADD ANY TEXT OTHER THAN THIS: \\n\\nQUESTION: <your question>\\n\\n4. You have only one opportunity to guess the target word. To make your guess, use the following format and DO NOT ADD ANY TEXT OTHER THAN THIS: \\n\\nGUESS: <target word>\\n\\nRemember you cannot ask for a hint. Make your question brief. Let’s start!\\n\\nList of candidate words: [\\'Copper\\', \\'Lead\\', \\'Pepsi\\', \\'Lemonade\\', \\'Carbon\\', \\'Gold\\', \\'Chair\\', \\'Dresser\\']'}, {'role': 'assistant', 'content': 'QUESTION: Is the target word something that can be held in your hand?'}, {'role': 'user', 'content': 'ANSWER: yes'}, {'role': 'assistant', 'content': 'QUESTION: Is the target word man-made?'}, {'role': 'user', 'content': 'ANSWER: yes'}, {'role': 'assistant', 'content': 'QUESTION: Is the target word used for consumption?'}, {'role': 'user', 'content': 'ANSWER: yes'}, {'role': 'assistant', 'content': 'QUESTION: Is the target word a type of drink?'}], 'response': 'QUESTION: Is the target word a type of drink?', 'done': False, 'info': {'response_score': 0, 'response_feedback': None}}, {'context': [{'role': 'user', 'content': 'Let\\'s play a guessing game. Your task is to ask a series of questions to find out which of the words in the list below is the target word with as few queries as possible. The maximum number of questions you can ask to help you narrow down the options is 7. Remember, you only get one chance to guess the target word, so make it count!\\n\\nThe rules of the game are: \\n\\n1. Only ask one question per turn. DO NOT ASK MORE THAN ONE QUESTION.\\n\\n2. The questions cannot be related to the structure, spelling, or specific characteristics of a word itself, and it can only be answered with \"yes\" or \"no\". \\n\\n3. Use the following format for asking questions and DO NOT ADD ANY TEXT OTHER THAN THIS: \\n\\nQUESTION: <your question>\\n\\n4. You have only one opportunity to guess the target word. To make your guess, use the following format and DO NOT ADD ANY TEXT OTHER THAN THIS: \\n\\nGUESS: <target word>\\n\\nRemember you cannot ask for a hint. Make your question brief. Let’s start!\\n\\nList of candidate words: [\\'Copper\\', \\'Lead\\', \\'Pepsi\\', \\'Lemonade\\', \\'Carbon\\', \\'Gold\\', \\'Chair\\', \\'Dresser\\']'}, {'role': 'assistant', 'content': 'QUESTION: Is the target word something that can be held in your hand?'}, {'role': 'user', 'content': 'ANSWER: yes'}, {'role': 'assistant', 'content': 'QUESTION: Is the target word man-made?'}, {'role': 'user', 'content': 'ANSWER: yes'}, {'role': 'assistant', 'content': 'QUESTION: Is the target word used for consumption?'}, {'role': 'user', 'content': 'ANSWER: yes'}, {'role': 'assistant', 'content': 'QUESTION: Is the target word a type of drink?'}, {'role': 'user', 'content': 'ANSWER: yes'}, {'role': 'assistant', 'content': 'QUESTION: Is the target word a carbonated drink?'}], 'response': 'QUESTION: Is the target word a carbonated drink?', 'done': False, 'info': {'response_score': 0, 'response_feedback': None}}, {'context': [{'role': 'user', 'content': 'Let\\'s play a guessing game. Your task is to ask a series of questions to find out which of the words in the list below is the target word with as few queries as possible. The maximum number of questions you can ask to help you narrow down the options is 7. Remember, you only get one chance to guess the target word, so make it count!\\n\\nThe rules of the game are: \\n\\n1. Only ask one question per turn. DO NOT ASK MORE THAN ONE QUESTION.\\n\\n2. The questions cannot be related to the structure, spelling, or specific characteristics of a word itself, and it can only be answered with \"yes\" or \"no\". \\n\\n3. Use the following format for asking questions and DO NOT ADD ANY TEXT OTHER THAN THIS: \\n\\nQUESTION: <your question>\\n\\n4. You have only one opportunity to guess the target word. To make your guess, use the following format and DO NOT ADD ANY TEXT OTHER THAN THIS: \\n\\nGUESS: <target word>\\n\\nRemember you cannot ask for a hint. Make your question brief. Let’s start!\\n\\nList of candidate words: [\\'Copper\\', \\'Lead\\', \\'Pepsi\\', \\'Lemonade\\', \\'Carbon\\', \\'Gold\\', \\'Chair\\', \\'Dresser\\']'}, {'role': 'assistant', 'content': 'QUESTION: Is the target word something that can be held in your hand?'}, {'role': 'user', 'content': 'ANSWER: yes'}, {'role': 'assistant', 'content': 'QUESTION: Is the target word man-made?'}, {'role': 'user', 'content': 'ANSWER: yes'}, {'role': 'assistant', 'content': 'QUESTION: Is the target word used for consumption?'}, {'role': 'user', 'content': 'ANSWER: yes'}, {'role': 'assistant', 'content': 'QUESTION: Is the target word a type of drink?'}, {'role': 'user', 'content': 'ANSWER: yes'}, {'role': 'assistant', 'content': 'QUESTION: Is the target word a carbonated drink?'}, {'role': 'user', 'content': 'ANSWER: yes'}, {'role': 'assistant', 'content': 'QUESTION: Is the target word commonly found in stores?'}], 'response': 'QUESTION: Is the target word commonly found in stores?', 'done': False, 'info': {'response_score': -10, 'response_feedback': None}}, {'context': [{'role': 'user', 'content': 'Let\\'s play a guessing game. Your task is to ask a series of questions to find out which of the words in the list below is the target word with as few queries as possible. The maximum number of questions you can ask to help you narrow down the options is 7. Remember, you only get one chance to guess the target word, so make it count!\\n\\nThe rules of the game are: \\n\\n1. Only ask one question per turn. DO NOT ASK MORE THAN ONE QUESTION.\\n\\n2. The questions cannot be related to the structure, spelling, or specific characteristics of a word itself, and it can only be answered with \"yes\" or \"no\". \\n\\n3. Use the following format for asking questions and DO NOT ADD ANY TEXT OTHER THAN THIS: \\n\\nQUESTION: <your question>\\n\\n4. You have only one opportunity to guess the target word. To make your guess, use the following format and DO NOT ADD ANY TEXT OTHER THAN THIS: \\n\\nGUESS: <target word>\\n\\nRemember you cannot ask for a hint. Make your question brief. Let’s start!\\n\\nList of candidate words: [\\'Copper\\', \\'Lead\\', \\'Pepsi\\', \\'Lemonade\\', \\'Carbon\\', \\'Gold\\', \\'Chair\\', \\'Dresser\\']'}, {'role': 'assistant', 'content': 'QUESTION: Is the target word something that can be held in your hand?'}, {'role': 'user', 'content': 'ANSWER: yes'}, {'role': 'assistant', 'content': 'QUESTION: Is the target word man-made?'}, {'role': 'user', 'content': 'ANSWER: yes'}, {'role': 'assistant', 'content': 'QUESTION: Is the target word used for consumption?'}, {'role': 'user', 'content': 'ANSWER: yes'}, {'role': 'assistant', 'content': 'QUESTION: Is the target word a type of drink?'}, {'role': 'user', 'content': 'ANSWER: yes'}, {'role': 'assistant', 'content': 'QUESTION: Is the target word a carbonated drink?'}, {'role': 'user', 'content': 'ANSWER: yes'}, {'role': 'assistant', 'content': 'QUESTION: Is the target word commonly found in stores?'}, {'role': 'user', 'content': 'ANSWER: yes'}, {'role': 'assistant', 'content': 'QUESTION: Is the target word a popular cola brand?'}], 'response': 'QUESTION: Is the target word a popular cola brand?', 'done': False, 'info': {'response_score': -10, 'response_feedback': None}}, {'context': [{'role': 'user', 'content': 'Let\\'s play a guessing game. Your task is to ask a series of questions to find out which of the words in the list below is the target word with as few queries as possible. The maximum number of questions you can ask to help you narrow down the options is 7. Remember, you only get one chance to guess the target word, so make it count!\\n\\nThe rules of the game are: \\n\\n1. Only ask one question per turn. DO NOT ASK MORE THAN ONE QUESTION.\\n\\n2. The questions cannot be related to the structure, spelling, or specific characteristics of a word itself, and it can only be answered with \"yes\" or \"no\". \\n\\n3. Use the following format for asking questions and DO NOT ADD ANY TEXT OTHER THAN THIS: \\n\\nQUESTION: <your question>\\n\\n4. You have only one opportunity to guess the target word. To make your guess, use the following format and DO NOT ADD ANY TEXT OTHER THAN THIS: \\n\\nGUESS: <target word>\\n\\nRemember you cannot ask for a hint. Make your question brief. Let’s start!\\n\\nList of candidate words: [\\'Copper\\', \\'Lead\\', \\'Pepsi\\', \\'Lemonade\\', \\'Carbon\\', \\'Gold\\', \\'Chair\\', \\'Dresser\\']'}, {'role': 'assistant', 'content': 'QUESTION: Is the target word something that can be held in your hand?'}, {'role': 'user', 'content': 'ANSWER: yes'}, {'role': 'assistant', 'content': 'QUESTION: Is the target word man-made?'}, {'role': 'user', 'content': 'ANSWER: yes'}, {'role': 'assistant', 'content': 'QUESTION: Is the target word used for consumption?'}, {'role': 'user', 'content': 'ANSWER: yes'}, {'role': 'assistant', 'content': 'QUESTION: Is the target word a type of drink?'}, {'role': 'user', 'content': 'ANSWER: yes'}, {'role': 'assistant', 'content': 'QUESTION: Is the target word a carbonated drink?'}, {'role': 'user', 'content': 'ANSWER: yes'}, {'role': 'assistant', 'content': 'QUESTION: Is the target word commonly found in stores?'}, {'role': 'user', 'content': 'ANSWER: yes'}, {'role': 'assistant', 'content': 'QUESTION: Is the target word a popular cola brand?'}, {'role': 'user', 'content': 'ANSWER: yes'}, {'role': 'assistant', 'content': 'GUESS: Pepsi'}], 'response': 'GUESS: Pepsi', 'done': True, 'info': {'response_score': 0, 'response_feedback': None, 'episode_score': 0}}], [{'context': [{'role': 'user', 'content': 'Let\\'s play a guessing game. Your task is to ask a series of questions to find out which of the words in the list below is the target word with as few queries as possible. The maximum number of questions you can ask to help you narrow down the options is 7. Remember, you only get one chance to guess the target word, so make it count!\\n\\nThe rules of the game are: \\n\\n1. Only ask one question per turn. DO NOT ASK MORE THAN ONE QUESTION.\\n\\n2. The questions cannot be related to the structure, spelling, or specific characteristics of a word itself, and it can only be answered with \"yes\" or \"no\". \\n\\n3. Use the following format for asking questions and DO NOT ADD ANY TEXT OTHER THAN THIS: \\n\\nQUESTION: <your question>\\n\\n4. You have only one opportunity to guess the target word. To make your guess, use the following format and DO NOT ADD ANY TEXT OTHER THAN THIS: \\n\\nGUESS: <target word>\\n\\nRemember you cannot ask for a hint. Make your question brief. Let’s start!\\n\\nList of candidate words: [\\'Eon\\', \\'Year\\', \\'Ethanol\\', \\'Wind\\', \\'Guitar\\', \\'Clarinet\\', \\'Silver\\', \\'Platinum\\']'}, {'role': 'assistant', 'content': 'QUESTION: Is the target word something that can be held in your hand?'}], 'response': 'QUESTION: Is the target word something that can be held in your hand?', 'done': False, 'info': {'response_score': 0, 'response_feedback': None}}, {'context': [{'role': 'user', 'content': 'Let\\'s play a guessing game. Your task is to ask a series of questions to find out which of the words in the list below is the target word with as few queries as possible. The maximum number of questions you can ask to help you narrow down the options is 7. Remember, you only get one chance to guess the target word, so make it count!\\n\\nThe rules of the game are: \\n\\n1. Only ask one question per turn. DO NOT ASK MORE THAN ONE QUESTION.\\n\\n2. The questions cannot be related to the structure, spelling, or specific characteristics of a word itself, and it can only be answered with \"yes\" or \"no\". \\n\\n3. Use the following format for asking questions and DO NOT ADD ANY TEXT OTHER THAN THIS: \\n\\nQUESTION: <your question>\\n\\n4. You have only one opportunity to guess the target word. To make your guess, use the following format and DO NOT ADD ANY TEXT OTHER THAN THIS: \\n\\nGUESS: <target word>\\n\\nRemember you cannot ask for a hint. Make your question brief. Let’s start!\\n\\nList of candidate words: [\\'Eon\\', \\'Year\\', \\'Ethanol\\', \\'Wind\\', \\'Guitar\\', \\'Clarinet\\', \\'Silver\\', \\'Platinum\\']'}, {'role': 'assistant', 'content': 'QUESTION: Is the target word something that can be held in your hand?'}, {'role': 'user', 'content': 'ANSWER: Yes'}, {'role': 'assistant', 'content': 'QUESTION: Is the target word man-made?'}], 'response': 'QUESTION: Is the target word man-made?', 'done': False, 'info': {'response_score': 0, 'response_feedback': None}}, {'context': [{'role': 'user', 'content': 'Let\\'s play a guessing game. Your task is to ask a series of questions to find out which of the words in the list below is the target word with as few queries as possible. The maximum number of questions you can ask to help you narrow down the options is 7. Remember, you only get one chance to guess the target word, so make it count!\\n\\nThe rules of the game are: \\n\\n1. Only ask one question per turn. DO NOT ASK MORE THAN ONE QUESTION.\\n\\n2. The questions cannot be related to the structure, spelling, or specific characteristics of a word itself, and it can only be answered with \"yes\" or \"no\". \\n\\n3. Use the following format for asking questions and DO NOT ADD ANY TEXT OTHER THAN THIS: \\n\\nQUESTION: <your question>\\n\\n4. You have only one opportunity to guess the target word. To make your guess, use the following format and DO NOT ADD ANY TEXT OTHER THAN THIS: \\n\\nGUESS: <target word>\\n\\nRemember you cannot ask for a hint. Make your question brief. Let’s start!\\n\\nList of candidate words: [\\'Eon\\', \\'Year\\', \\'Ethanol\\', \\'Wind\\', \\'Guitar\\', \\'Clarinet\\', \\'Silver\\', \\'Platinum\\']'}, {'role': 'assistant', 'content': 'QUESTION: Is the target word something that can be held in your hand?'}, {'role': 'user', 'content': 'ANSWER: Yes'}, {'role': 'assistant', 'content': 'QUESTION: Is the target word man-made?'}, {'role': 'user', 'content': 'ANSWER: Yes'}, {'role': 'assistant', 'content': 'QUESTION: Is the target word primarily used for entertainment?'}], 'response': 'QUESTION: Is the target word primarily used for entertainment?', 'done': False, 'info': {'response_score': 0, 'response_feedback': None}}, {'context': [{'role': 'user', 'content': 'Let\\'s play a guessing game. Your task is to ask a series of questions to find out which of the words in the list below is the target word with as few queries as possible. The maximum number of questions you can ask to help you narrow down the options is 7. Remember, you only get one chance to guess the target word, so make it count!\\n\\nThe rules of the game are: \\n\\n1. Only ask one question per turn. DO NOT ASK MORE THAN ONE QUESTION.\\n\\n2. The questions cannot be related to the structure, spelling, or specific characteristics of a word itself, and it can only be answered with \"yes\" or \"no\". \\n\\n3. Use the following format for asking questions and DO NOT ADD ANY TEXT OTHER THAN THIS: \\n\\nQUESTION: <your question>\\n\\n4. You have only one opportunity to guess the target word. To make your guess, use the following format and DO NOT ADD ANY TEXT OTHER THAN THIS: \\n\\nGUESS: <target word>\\n\\nRemember you cannot ask for a hint. Make your question brief. Let’s start!\\n\\nList of candidate words: [\\'Eon\\', \\'Year\\', \\'Ethanol\\', \\'Wind\\', \\'Guitar\\', \\'Clarinet\\', \\'Silver\\', \\'Platinum\\']'}, {'role': 'assistant', 'content': 'QUESTION: Is the target word something that can be held in your hand?'}, {'role': 'user', 'content': 'ANSWER: Yes'}, {'role': 'assistant', 'content': 'QUESTION: Is the target word man-made?'}, {'role': 'user', 'content': 'ANSWER: Yes'}, {'role': 'assistant', 'content': 'QUESTION: Is the target word primarily used for entertainment?'}, {'role': 'user', 'content': 'ANSWER: No'}, {'role': 'assistant', 'content': 'QUESTION: Is the target word used for a purpose related to music?'}], 'response': 'QUESTION: Is the target word used for a purpose related to music?', 'done': False, 'info': {'response_score': 0, 'response_feedback': None}}, {'context': [{'role': 'user', 'content': 'Let\\'s play a guessing game. Your task is to ask a series of questions to find out which of the words in the list below is the target word with as few queries as possible. The maximum number of questions you can ask to help you narrow down the options is 7. Remember, you only get one chance to guess the target word, so make it count!\\n\\nThe rules of the game are: \\n\\n1. Only ask one question per turn. DO NOT ASK MORE THAN ONE QUESTION.\\n\\n2. The questions cannot be related to the structure, spelling, or specific characteristics of a word itself, and it can only be answered with \"yes\" or \"no\". \\n\\n3. Use the following format for asking questions and DO NOT ADD ANY TEXT OTHER THAN THIS: \\n\\nQUESTION: <your question>\\n\\n4. You have only one opportunity to guess the target word. To make your guess, use the following format and DO NOT ADD ANY TEXT OTHER THAN THIS: \\n\\nGUESS: <target word>\\n\\nRemember you cannot ask for a hint. Make your question brief. Let’s start!\\n\\nList of candidate words: [\\'Eon\\', \\'Year\\', \\'Ethanol\\', \\'Wind\\', \\'Guitar\\', \\'Clarinet\\', \\'Silver\\', \\'Platinum\\']'}, {'role': 'assistant', 'content': 'QUESTION: Is the target word something that can be held in your hand?'}, {'role': 'user', 'content': 'ANSWER: Yes'}, {'role': 'assistant', 'content': 'QUESTION: Is the target word man-made?'}, {'role': 'user', 'content': 'ANSWER: Yes'}, {'role': 'assistant', 'content': 'QUESTION: Is the target word primarily used for entertainment?'}, {'role': 'user', 'content': 'ANSWER: No'}, {'role': 'assistant', 'content': 'QUESTION: Is the target word used for a purpose related to music?'}, {'role': 'user', 'content': 'ANSWER: Yes'}, {'role': 'assistant', 'content': 'QUESTION: Is the target word typically played by blowing air through it?'}], 'response': 'QUESTION: Is the target word typically played by blowing air through it?', 'done': False, 'info': {'response_score': 0, 'response_feedback': None}}, {'context': [{'role': 'user', 'content': 'Let\\'s play a guessing game. Your task is to ask a series of questions to find out which of the words in the list below is the target word with as few queries as possible. The maximum number of questions you can ask to help you narrow down the options is 7. Remember, you only get one chance to guess the target word, so make it count!\\n\\nThe rules of the game are: \\n\\n1. Only ask one question per turn. DO NOT ASK MORE THAN ONE QUESTION.\\n\\n2. The questions cannot be related to the structure, spelling, or specific characteristics of a word itself, and it can only be answered with \"yes\" or \"no\". \\n\\n3. Use the following format for asking questions and DO NOT ADD ANY TEXT OTHER THAN THIS: \\n\\nQUESTION: <your question>\\n\\n4. You have only one opportunity to guess the target word. To make your guess, use the following format and DO NOT ADD ANY TEXT OTHER THAN THIS: \\n\\nGUESS: <target word>\\n\\nRemember you cannot ask for a hint. Make your question brief. Let’s start!\\n\\nList of candidate words: [\\'Eon\\', \\'Year\\', \\'Ethanol\\', \\'Wind\\', \\'Guitar\\', \\'Clarinet\\', \\'Silver\\', \\'Platinum\\']'}, {'role': 'assistant', 'content': 'QUESTION: Is the target word something that can be held in your hand?'}, {'role': 'user', 'content': 'ANSWER: Yes'}, {'role': 'assistant', 'content': 'QUESTION: Is the target word man-made?'}, {'role': 'user', 'content': 'ANSWER: Yes'}, {'role': 'assistant', 'content': 'QUESTION: Is the target word primarily used for entertainment?'}, {'role': 'user', 'content': 'ANSWER: No'}, {'role': 'assistant', 'content': 'QUESTION: Is the target word used for a purpose related to music?'}, {'role': 'user', 'content': 'ANSWER: Yes'}, {'role': 'assistant', 'content': 'QUESTION: Is the target word typically played by blowing air through it?'}, {'role': 'user', 'content': 'ANSWER: No'}, {'role': 'assistant', 'content': 'QUESTION: Is the target word a stringed instrument?'}], 'response': 'QUESTION: Is the target word a stringed instrument?', 'done': False, 'info': {'response_score': -10, 'response_feedback': None}}, {'context': [{'role': 'user', 'content': 'Let\\'s play a guessing game. Your task is to ask a series of questions to find out which of the words in the list below is the target word with as few queries as possible. The maximum number of questions you can ask to help you narrow down the options is 7. Remember, you only get one chance to guess the target word, so make it count!\\n\\nThe rules of the game are: \\n\\n1. Only ask one question per turn. DO NOT ASK MORE THAN ONE QUESTION.\\n\\n2. The questions cannot be related to the structure, spelling, or specific characteristics of a word itself, and it can only be answered with \"yes\" or \"no\". \\n\\n3. Use the following format for asking questions and DO NOT ADD ANY TEXT OTHER THAN THIS: \\n\\nQUESTION: <your question>\\n\\n4. You have only one opportunity to guess the target word. To make your guess, use the following format and DO NOT ADD ANY TEXT OTHER THAN THIS: \\n\\nGUESS: <target word>\\n\\nRemember you cannot ask for a hint. Make your question brief. Let’s start!\\n\\nList of candidate words: [\\'Eon\\', \\'Year\\', \\'Ethanol\\', \\'Wind\\', \\'Guitar\\', \\'Clarinet\\', \\'Silver\\', \\'Platinum\\']'}, {'role': 'assistant', 'content': 'QUESTION: Is the target word something that can be held in your hand?'}, {'role': 'user', 'content': 'ANSWER: Yes'}, {'role': 'assistant', 'content': 'QUESTION: Is the target word man-made?'}, {'role': 'user', 'content': 'ANSWER: Yes'}, {'role': 'assistant', 'content': 'QUESTION: Is the target word primarily used for entertainment?'}, {'role': 'user', 'content': 'ANSWER: No'}, {'role': 'assistant', 'content': 'QUESTION: Is the target word used for a purpose related to music?'}, {'role': 'user', 'content': 'ANSWER: Yes'}, {'role': 'assistant', 'content': 'QUESTION: Is the target word typically played by blowing air through it?'}, {'role': 'user', 'content': 'ANSWER: No'}, {'role': 'assistant', 'content': 'QUESTION: Is the target word a stringed instrument?'}, {'role': 'user', 'content': 'ANSWER: No'}, {'role': 'assistant', 'content': 'QUESTION: Is the target word typically made of metal?'}], 'response': 'QUESTION: Is the target word typically made of metal?', 'done': False, 'info': {'response_score': -10, 'response_feedback': None}}, {'context': [{'role': 'user', 'content': 'Let\\'s play a guessing game. Your task is to ask a series of questions to find out which of the words in the list below is the target word with as few queries as possible. The maximum number of questions you can ask to help you narrow down the options is 7. Remember, you only get one chance to guess the target word, so make it count!\\n\\nThe rules of the game are: \\n\\n1. Only ask one question per turn. DO NOT ASK MORE THAN ONE QUESTION.\\n\\n2. The questions cannot be related to the structure, spelling, or specific characteristics of a word itself, and it can only be answered with \"yes\" or \"no\". \\n\\n3. Use the following format for asking questions and DO NOT ADD ANY TEXT OTHER THAN THIS: \\n\\nQUESTION: <your question>\\n\\n4. You have only one opportunity to guess the target word. To make your guess, use the following format and DO NOT ADD ANY TEXT OTHER THAN THIS: \\n\\nGUESS: <target word>\\n\\nRemember you cannot ask for a hint. Make your question brief. Let’s start!\\n\\nList of candidate words: [\\'Eon\\', \\'Year\\', \\'Ethanol\\', \\'Wind\\', \\'Guitar\\', \\'Clarinet\\', \\'Silver\\', \\'Platinum\\']'}, {'role': 'assistant', 'content': 'QUESTION: Is the target word something that can be held in your hand?'}, {'role': 'user', 'content': 'ANSWER: Yes'}, {'role': 'assistant', 'content': 'QUESTION: Is the target word man-made?'}, {'role': 'user', 'content': 'ANSWER: Yes'}, {'role': 'assistant', 'content': 'QUESTION: Is the target word primarily used for entertainment?'}, {'role': 'user', 'content': 'ANSWER: No'}, {'role': 'assistant', 'content': 'QUESTION: Is the target word used for a purpose related to music?'}, {'role': 'user', 'content': 'ANSWER: Yes'}, {'role': 'assistant', 'content': 'QUESTION: Is the target word typically played by blowing air through it?'}, {'role': 'user', 'content': 'ANSWER: No'}, {'role': 'assistant', 'content': 'QUESTION: Is the target word a stringed instrument?'}, {'role': 'user', 'content': 'ANSWER: No'}, {'role': 'assistant', 'content': 'QUESTION: Is the target word typically made of metal?'}, {'role': 'user', 'content': 'ANSWER: Yes'}, {'role': 'assistant', 'content': 'GUESS: Clarinet'}], 'response': 'GUESS: Clarinet', 'done': True, 'info': {'response_score': 0, 'response_feedback': None, 'episode_score': 0}}], [{'context': [{'role': 'user', 'content': 'Let\\'s play a guessing game. Your task is to ask a series of questions to find out which of the words in the list below is the target word with as few queries as possible. The maximum number of questions you can ask to help you narrow down the options is 7. Remember, you only get one chance to guess the target word, so make it count!\\n\\nThe rules of the game are: \\n\\n1. Only ask one question per turn. DO NOT ASK MORE THAN ONE QUESTION.\\n\\n2. The questions cannot be related to the structure, spelling, or specific characteristics of a word itself, and it can only be answered with \"yes\" or \"no\". \\n\\n3. Use the following format for asking questions and DO NOT ADD ANY TEXT OTHER THAN THIS: \\n\\nQUESTION: <your question>\\n\\n4. You have only one opportunity to guess the target word. To make your guess, use the following format and DO NOT ADD ANY TEXT OTHER THAN THIS: \\n\\nGUESS: <target word>\\n\\nRemember you cannot ask for a hint. Make your question brief. Let’s start!\\n\\nList of candidate words: [\\'Elder\\', \\'Minister\\', \\'Cannon\\', \\'Grenade\\', \\'Organ\\', \\'Bass\\', \\'Stairs\\', \\'Pencil\\']'}, {'role': 'assistant', 'content': 'QUESTION: Is the target word something that can be held in your hand?'}], 'response': 'QUESTION: Is the target word something that can be held in your hand?', 'done': False, 'info': {'response_score': 0, 'response_feedback': None}}]]"
   ]
  },
  {
   "cell_type": "code",
   "execution_count": 66,
   "id": "21aaa4ef",
   "metadata": {},
   "outputs": [
    {
     "data": {
      "text/plain": [
       "3"
      ]
     },
     "execution_count": 66,
     "metadata": {},
     "output_type": "execute_result"
    }
   ],
   "source": [
    "len(buff_output)"
   ]
  },
  {
   "cell_type": "code",
   "execution_count": null,
   "id": "c420fa3d",
   "metadata": {},
   "outputs": [
    {
     "data": {
      "text/plain": [
       "{'context': [{'role': 'user',\n",
       "   'content': 'Let\\'s play a guessing game. Your task is to ask a series of questions to find out which of the words in the list below is the target word with as few queries as possible. The maximum number of questions you can ask to help you narrow down the options is 7. Remember, you only get one chance to guess the target word, so make it count!\\n\\nThe rules of the game are: \\n\\n1. Only ask one question per turn. DO NOT ASK MORE THAN ONE QUESTION.\\n\\n2. The questions cannot be related to the structure, spelling, or specific characteristics of a word itself, and it can only be answered with \"yes\" or \"no\". \\n\\n3. Use the following format for asking questions and DO NOT ADD ANY TEXT OTHER THAN THIS: \\n\\nQUESTION: <your question>\\n\\n4. You have only one opportunity to guess the target word. To make your guess, use the following format and DO NOT ADD ANY TEXT OTHER THAN THIS: \\n\\nGUESS: <target word>\\n\\nRemember you cannot ask for a hint. Make your question brief. Let’s start!\\n\\nList of candidate words: [\\'Copper\\', \\'Lead\\', \\'Pepsi\\', \\'Lemonade\\', \\'Carbon\\', \\'Gold\\', \\'Chair\\', \\'Dresser\\']'},\n",
       "  {'role': 'assistant',\n",
       "   'content': 'QUESTION: Is the target word something that can be held in your hand?'}],\n",
       " 'response': 'QUESTION: Is the target word something that can be held in your hand?',\n",
       " 'done': False,\n",
       " 'info': {'response_score': 0, 'response_feedback': None}}"
      ]
     },
     "execution_count": 68,
     "metadata": {},
     "output_type": "execute_result"
    }
   ],
   "source": [
    "buff_output[0]"
   ]
  },
  {
   "cell_type": "code",
   "execution_count": 28,
   "id": "2fdc7f5e",
   "metadata": {},
   "outputs": [],
   "source": [
    "s = 0\n",
    "\n",
    "for o in buff_output:\n",
    "    s+= len(o)"
   ]
  },
  {
   "cell_type": "code",
   "execution_count": 29,
   "id": "a757ebcf",
   "metadata": {},
   "outputs": [
    {
     "data": {
      "text/plain": [
       "15"
      ]
     },
     "execution_count": 29,
     "metadata": {},
     "output_type": "execute_result"
    }
   ],
   "source": [
    "s"
   ]
  },
  {
   "cell_type": "code",
   "execution_count": 41,
   "id": "0a1396e4",
   "metadata": {},
   "outputs": [
    {
     "data": {
      "text/plain": [
       "{'context': [{'role': 'user',\n",
       "   'content': \"Let’s play a guessing game! Your task is to answer the other player's questions. Based on your knowledge of the word: Pepsi, respond to the following questions or guesses. Limit your response to only 'yes' or 'no' with no explanation or other words. Never reveal the answer in your response.\\n\\nYou must reply using the format below and DO NOT ADD ANY TEXT OTHER THAN THIS:\\n\\nANSWER: <some text>\\n\\nTarget Word: Pepsi\\n\\nQUESTION: Is the target word something that can be held in your hand?\"},\n",
       "  {'role': 'assistant', 'content': 'ANSWER: yes'},\n",
       "  {'role': 'user', 'content': 'QUESTION: Is the target word man-made?'},\n",
       "  {'role': 'assistant', 'content': 'ANSWER: yes'},\n",
       "  {'role': 'user',\n",
       "   'content': 'QUESTION: Is the target word used for consumption?'},\n",
       "  {'role': 'assistant', 'content': 'ANSWER: yes'},\n",
       "  {'role': 'user', 'content': 'QUESTION: Is the target word a type of drink?'},\n",
       "  {'role': 'assistant', 'content': 'ANSWER: yes'},\n",
       "  {'role': 'user',\n",
       "   'content': 'QUESTION: Is the target word a carbonated drink?'},\n",
       "  {'role': 'assistant', 'content': 'ANSWER: yes'},\n",
       "  {'role': 'user',\n",
       "   'content': 'QUESTION: Is the target word commonly found in stores?'},\n",
       "  {'role': 'assistant', 'content': 'ANSWER: yes'},\n",
       "  {'role': 'user',\n",
       "   'content': 'QUESTION: Is the target word a popular cola brand?'},\n",
       "  {'role': 'assistant', 'content': 'ANSWER: yes'}],\n",
       " 'response': 'ANSWER: yes',\n",
       " 'done': False,\n",
       " 'info': {'response_score': 0, 'response_feedback': None}}"
      ]
     },
     "execution_count": 41,
     "metadata": {},
     "output_type": "execute_result"
    }
   ],
   "source": [
    "buff_output[0][0]"
   ]
  },
  {
   "cell_type": "code",
   "execution_count": 53,
   "id": "2810ad89",
   "metadata": {},
   "outputs": [
    {
     "data": {
      "text/plain": [
       "{'context': [{'role': 'user',\n",
       "   'content': \"Let’s play a guessing game! Your task is to answer the other player's questions. Based on your knowledge of the word: Pepsi, respond to the following questions or guesses. Limit your response to only 'yes' or 'no' with no explanation or other words. Never reveal the answer in your response.\\n\\nYou must reply using the format below and DO NOT ADD ANY TEXT OTHER THAN THIS:\\n\\nANSWER: <some text>\\n\\nTarget Word: Pepsi\\n\\nQUESTION: Is the target word something that can be held in your hand?\"},\n",
       "  {'role': 'assistant', 'content': 'ANSWER: yes'},\n",
       "  {'role': 'user', 'content': 'QUESTION: Is the target word man-made?'},\n",
       "  {'role': 'assistant', 'content': 'ANSWER: yes'},\n",
       "  {'role': 'user',\n",
       "   'content': 'QUESTION: Is the target word used for consumption?'},\n",
       "  {'role': 'assistant', 'content': 'ANSWER: yes'},\n",
       "  {'role': 'user', 'content': 'QUESTION: Is the target word a type of drink?'},\n",
       "  {'role': 'assistant', 'content': 'ANSWER: yes'},\n",
       "  {'role': 'user',\n",
       "   'content': 'QUESTION: Is the target word a carbonated drink?'},\n",
       "  {'role': 'assistant', 'content': 'ANSWER: yes'},\n",
       "  {'role': 'user',\n",
       "   'content': 'QUESTION: Is the target word commonly found in stores?'},\n",
       "  {'role': 'assistant', 'content': 'ANSWER: yes'},\n",
       "  {'role': 'user',\n",
       "   'content': 'QUESTION: Is the target word a popular cola brand?'},\n",
       "  {'role': 'assistant', 'content': 'ANSWER: yes'}],\n",
       " 'response': 'ANSWER: yes',\n",
       " 'done': False,\n",
       " 'info': {'response_score': -10, 'response_feedback': None}}"
      ]
     },
     "execution_count": 53,
     "metadata": {},
     "output_type": "execute_result"
    }
   ],
   "source": [
    "buff_output[0][5]"
   ]
  },
  {
   "cell_type": "code",
   "execution_count": 45,
   "id": "d3b1bf12",
   "metadata": {},
   "outputs": [
    {
     "data": {
      "text/plain": [
       "3"
      ]
     },
     "execution_count": 45,
     "metadata": {},
     "output_type": "execute_result"
    }
   ],
   "source": [
    "len(buff_output)"
   ]
  },
  {
   "cell_type": "code",
   "execution_count": 8,
   "id": "26610bbf",
   "metadata": {},
   "outputs": [],
   "source": [
    "data = [[{'context': {'role': 'user', 'content': 'Let\\'s play a guessing game. Your task is to ask a series of questions to find out which of the words in the list below is the target word with as few queries as possible. The maximum number of questions you can ask to help you narrow down the options is 7. Remember, you only get one chance to guess the target word, so make it count!\\n\\nThe rules of the game are: \\n\\n1. Only ask one question per turn. DO NOT ASK MORE THAN ONE QUESTION.\\n\\n2. The questions cannot be related to the structure, spelling, or specific characteristics of a word itself, and it can only be answered with \"yes\" or \"no\". \\n\\n3. Use the following format for asking questions and DO NOT ADD ANY TEXT OTHER THAN THIS: \\n\\nQUESTION: <your question>\\n\\n4. You have only one opportunity to guess the target word. To make your guess, use the following format and DO NOT ADD ANY TEXT OTHER THAN THIS: \\n\\nGUESS: <target word>\\n\\nRemember you cannot ask for a hint. Make your question brief. Let’s start!\\n\\nList of candidate words: [\\'Copper\\', \\'Lead\\', \\'Pepsi\\', \\'Lemonade\\', \\'Carbon\\', \\'Gold\\', \\'Chair\\', \\'Dresser\\']'}, 'response': 'QUESTION: Is the target word something that can be held in your hand?', 'done': False, 'info': {'response_score': 0, 'response_feedback': None}}, {'context': {'role': 'user', 'content': \"Let’s play a guessing game! Your task is to answer the other player's questions. Based on your knowledge of the word: Pepsi, respond to the following questions or guesses. Limit your response to only 'yes' or 'no' with no explanation or other words. Never reveal the answer in your response.\\n\\nYou must reply using the format below and DO NOT ADD ANY TEXT OTHER THAN THIS:\\n\\nANSWER: <some text>\\n\\nTarget Word: Pepsi\\n\\nQUESTION: Is the target word something that can be held in your hand?\"}, 'response': 'ANSWER: yes', 'done': False, 'info': {'response_score': 0, 'response_feedback': None}}, {'context': {'role': 'user', 'content': 'ANSWER: yes'}, 'response': 'QUESTION: Is the target word man-made?', 'done': False, 'info': {'response_score': 0, 'response_feedback': None}}, {'context': {'role': 'user', 'content': 'QUESTION: Is the target word man-made?'}, 'response': 'ANSWER: yes', 'done': False, 'info': {'response_score': 0, 'response_feedback': None}}, {'context': {'role': 'user', 'content': 'ANSWER: yes'}, 'response': 'QUESTION: Is the target word used for consumption?', 'done': False, 'info': {'response_score': 0, 'response_feedback': None}}, {'context': {'role': 'user', 'content': 'QUESTION: Is the target word used for consumption?'}, 'response': 'ANSWER: yes', 'done': False, 'info': {'response_score': 0, 'response_feedback': None}}, {'context': {'role': 'user', 'content': 'ANSWER: yes'}, 'response': 'QUESTION: Is the target word a type of drink?', 'done': False, 'info': {'response_score': 0, 'response_feedback': None}}, {'context': {'role': 'user', 'content': 'QUESTION: Is the target word a type of drink?'}, 'response': 'ANSWER: yes', 'done': False, 'info': {'response_score': 0, 'response_feedback': None}}, {'context': {'role': 'user', 'content': 'ANSWER: yes'}, 'response': 'QUESTION: Is the target word a carbonated drink?', 'done': False, 'info': {'response_score': 0, 'response_feedback': None}}, {'context': {'role': 'user', 'content': 'QUESTION: Is the target word a carbonated drink?'}, 'response': 'ANSWER: yes', 'done': False, 'info': {'response_score': 0, 'response_feedback': None}}, {'context': {'role': 'user', 'content': 'ANSWER: yes'}, 'response': 'QUESTION: Is the target word commonly found in stores?', 'done': False, 'info': {'response_score': 0, 'response_feedback': None}}, {'context': {'role': 'user', 'content': 'QUESTION: Is the target word commonly found in stores?'}, 'response': 'ANSWER: yes', 'done': False, 'info': {'response_score': 0, 'response_feedback': None}}, {'context': {'role': 'user', 'content': 'ANSWER: yes'}, 'response': 'QUESTION: Is the target word a popular cola brand?', 'done': False, 'info': {'response_score': 0, 'response_feedback': None}}, {'context': {'role': 'user', 'content': 'QUESTION: Is the target word a popular cola brand?'}, 'response': 'ANSWER: yes', 'done': False, 'info': {'response_score': 0, 'response_feedback': None}}, {'context': {'role': 'user', 'content': 'ANSWER: yes'}, 'response': 'GUESS: Pepsi', 'done': True, 'info': {'response_score': 0, 'response_feedback': None, 'episode_score': 0}}], [{'context': {'role': 'user', 'content': 'Let\\'s play a guessing game. Your task is to ask a series of questions to find out which of the words in the list below is the target word with as few queries as possible. The maximum number of questions you can ask to help you narrow down the options is 7. Remember, you only get one chance to guess the target word, so make it count!\\n\\nThe rules of the game are: \\n\\n1. Only ask one question per turn. DO NOT ASK MORE THAN ONE QUESTION.\\n\\n2. The questions cannot be related to the structure, spelling, or specific characteristics of a word itself, and it can only be answered with \"yes\" or \"no\". \\n\\n3. Use the following format for asking questions and DO NOT ADD ANY TEXT OTHER THAN THIS: \\n\\nQUESTION: <your question>\\n\\n4. You have only one opportunity to guess the target word. To make your guess, use the following format and DO NOT ADD ANY TEXT OTHER THAN THIS: \\n\\nGUESS: <target word>\\n\\nRemember you cannot ask for a hint. Make your question brief. Let’s start!\\n\\nList of candidate words: [\\'Eon\\', \\'Year\\', \\'Ethanol\\', \\'Wind\\', \\'Guitar\\', \\'Clarinet\\', \\'Silver\\', \\'Platinum\\']'}, 'response': 'QUESTION: Is the target word something that can be held in your hand?', 'done': False, 'info': {'response_score': 0, 'response_feedback': None}}, {'context': {'role': 'user', 'content': \"Let’s play a guessing game! Your task is to answer the other player's questions. Based on your knowledge of the word: Platinum, respond to the following questions or guesses. Limit your response to only 'yes' or 'no' with no explanation or other words. Never reveal the answer in your response.\\n\\nYou must reply using the format below and DO NOT ADD ANY TEXT OTHER THAN THIS:\\n\\nANSWER: <some text>\\n\\nTarget Word: Platinum\\n\\nQUESTION: Is the target word something that can be held in your hand?\"}, 'response': 'ANSWER: Yes', 'done': False, 'info': {'response_score': 0, 'response_feedback': None}}, {'context': {'role': 'user', 'content': 'ANSWER: Yes'}, 'response': 'QUESTION: Is the target word man-made?', 'done': False, 'info': {'response_score': 0, 'response_feedback': None}}, {'context': {'role': 'user', 'content': 'QUESTION: Is the target word man-made?'}, 'response': 'ANSWER: Yes', 'done': False, 'info': {'response_score': 0, 'response_feedback': None}}, {'context': {'role': 'user', 'content': 'ANSWER: Yes'}, 'response': 'QUESTION: Is the target word primarily used for entertainment?', 'done': False, 'info': {'response_score': 0, 'response_feedback': None}}, {'context': {'role': 'user', 'content': 'QUESTION: Is the target word primarily used for entertainment?'}, 'response': 'ANSWER: No', 'done': False, 'info': {'response_score': 0, 'response_feedback': None}}, {'context': {'role': 'user', 'content': 'ANSWER: No'}, 'response': 'QUESTION: Is the target word used for a purpose related to music?', 'done': False, 'info': {'response_score': 0, 'response_feedback': None}}, {'context': {'role': 'user', 'content': 'QUESTION: Is the target word used for a purpose related to music?'}, 'response': 'ANSWER: Yes', 'done': False, 'info': {'response_score': 0, 'response_feedback': None}}, {'context': {'role': 'user', 'content': 'ANSWER: Yes'}, 'response': 'QUESTION: Is the target word typically played by blowing air through it?', 'done': False, 'info': {'response_score': 0, 'response_feedback': None}}, {'context': {'role': 'user', 'content': 'QUESTION: Is the target word typically played by blowing air through it?'}, 'response': 'ANSWER: No', 'done': False, 'info': {'response_score': 0, 'response_feedback': None}}, {'context': {'role': 'user', 'content': 'ANSWER: No'}, 'response': 'QUESTION: Is the target word a stringed instrument?', 'done': False, 'info': {'response_score': 0, 'response_feedback': None}}, {'context': {'role': 'user', 'content': 'QUESTION: Is the target word a stringed instrument?'}, 'response': 'ANSWER: No', 'done': False, 'info': {'response_score': 0, 'response_feedback': None}}, {'context': {'role': 'user', 'content': 'ANSWER: No'}, 'response': 'QUESTION: Is the target word typically made of metal?', 'done': False, 'info': {'response_score': 0, 'response_feedback': None}}, {'context': {'role': 'user', 'content': 'QUESTION: Is the target word typically made of metal?'}, 'response': 'ANSWER: Yes', 'done': False, 'info': {'response_score': 0, 'response_feedback': None}}, {'context': {'role': 'user', 'content': 'ANSWER: Yes'}, 'response': 'GUESS: Clarinet', 'done': True, 'info': {'response_score': 0, 'response_feedback': None, 'episode_score': 0}}], [{'context': {'role': 'user', 'content': 'Let\\'s play a guessing game. Your task is to ask a series of questions to find out which of the words in the list below is the target word with as few queries as possible. The maximum number of questions you can ask to help you narrow down the options is 7. Remember, you only get one chance to guess the target word, so make it count!\\n\\nThe rules of the game are: \\n\\n1. Only ask one question per turn. DO NOT ASK MORE THAN ONE QUESTION.\\n\\n2. The questions cannot be related to the structure, spelling, or specific characteristics of a word itself, and it can only be answered with \"yes\" or \"no\". \\n\\n3. Use the following format for asking questions and DO NOT ADD ANY TEXT OTHER THAN THIS: \\n\\nQUESTION: <your question>\\n\\n4. You have only one opportunity to guess the target word. To make your guess, use the following format and DO NOT ADD ANY TEXT OTHER THAN THIS: \\n\\nGUESS: <target word>\\n\\nRemember you cannot ask for a hint. Make your question brief. Let’s start!\\n\\nList of candidate words: [\\'Elder\\', \\'Minister\\', \\'Cannon\\', \\'Grenade\\', \\'Organ\\', \\'Bass\\', \\'Stairs\\', \\'Pencil\\']'}, 'response': 'QUESTION: Is the target word something that can be held in your hand?', 'done': False, 'info': {'response_score': 0, 'response_feedback': None}}, {'context': {'role': 'user', 'content': \"Let’s play a guessing game! Your task is to answer the other player's questions. Based on your knowledge of the word: Bass, respond to the following questions or guesses. Limit your response to only 'yes' or 'no' with no explanation or other words. Never reveal the answer in your response.\\n\\nYou must reply using the format below and DO NOT ADD ANY TEXT OTHER THAN THIS:\\n\\nANSWER: <some text>\\n\\nTarget Word: Bass\\n\\nQUESTION: Is the target word something that can be held in your hand?\"}, 'response': 'ANSWER: No', 'done': False, 'info': {'response_score': 0, 'response_feedback': None}}]]\n"
   ]
  },
  {
   "cell_type": "code",
   "execution_count": 3,
   "id": "fa6d77b0",
   "metadata": {},
   "outputs": [],
   "source": [
    "data = data[1:]"
   ]
  },
  {
   "cell_type": "code",
   "execution_count": 5,
   "id": "7e0782e3",
   "metadata": {},
   "outputs": [
    {
     "data": {
      "text/plain": [
       "2"
      ]
     },
     "execution_count": 5,
     "metadata": {},
     "output_type": "execute_result"
    }
   ],
   "source": [
    "len(data)"
   ]
  },
  {
   "cell_type": "code",
   "execution_count": 56,
   "id": "b4844120",
   "metadata": {},
   "outputs": [],
   "source": [
    "from typing import List\n",
    "\n",
    "class TestCalss():\n",
    "    def __init__(self, limit = 5):\n",
    "        self.data: List = None\n",
    "        self.limit = limit\n",
    "        self.current = 0\n",
    "\n",
    "    def update(self):\n",
    "\n",
    "        self.data = self.data[self.num_sample:]\n",
    "\n",
    "    def add(self, v):\n",
    "        self.data[self.current] = v\n",
    "        self.current+=1\n",
    "\n",
    "        excess_count = len(self.data) - self.limit\n",
    "\n",
    "        if excess_count > 0:\n",
    "            self.data = self.data[excess_count:]\n",
    "            self.current -= excess_count\n",
    "\n",
    "        if self.current < 0:\n",
    "            self.current = 0"
   ]
  },
  {
   "cell_type": "code",
   "execution_count": 57,
   "id": "fb7600fd",
   "metadata": {},
   "outputs": [],
   "source": [
    "a = TestCalss(5)"
   ]
  },
  {
   "cell_type": "code",
   "execution_count": 58,
   "id": "b622f022",
   "metadata": {},
   "outputs": [
    {
     "ename": "TypeError",
     "evalue": "'NoneType' object does not support item assignment",
     "output_type": "error",
     "traceback": [
      "\u001b[31m---------------------------------------------------------------------------\u001b[39m",
      "\u001b[31mTypeError\u001b[39m                                 Traceback (most recent call last)",
      "\u001b[36mCell\u001b[39m\u001b[36m \u001b[39m\u001b[32mIn[58]\u001b[39m\u001b[32m, line 1\u001b[39m\n\u001b[32m----> \u001b[39m\u001b[32m1\u001b[39m \u001b[43ma\u001b[49m\u001b[43m.\u001b[49m\u001b[43madd\u001b[49m\u001b[43m(\u001b[49m\u001b[32;43m4\u001b[39;49m\u001b[43m)\u001b[49m\n",
      "\u001b[36mCell\u001b[39m\u001b[36m \u001b[39m\u001b[32mIn[56]\u001b[39m\u001b[32m, line 14\u001b[39m, in \u001b[36mTestCalss.add\u001b[39m\u001b[34m(self, v)\u001b[39m\n\u001b[32m     13\u001b[39m \u001b[38;5;28;01mdef\u001b[39;00m\u001b[38;5;250m \u001b[39m\u001b[34madd\u001b[39m(\u001b[38;5;28mself\u001b[39m, v):\n\u001b[32m---> \u001b[39m\u001b[32m14\u001b[39m     \u001b[38;5;28;43mself\u001b[39;49m\u001b[43m.\u001b[49m\u001b[43mdata\u001b[49m\u001b[43m[\u001b[49m\u001b[38;5;28;43mself\u001b[39;49m\u001b[43m.\u001b[49m\u001b[43mcurrent\u001b[49m\u001b[43m]\u001b[49m = v\n\u001b[32m     15\u001b[39m     \u001b[38;5;28mself\u001b[39m.current+=\u001b[32m1\u001b[39m\n\u001b[32m     17\u001b[39m     excess_count = \u001b[38;5;28mlen\u001b[39m(\u001b[38;5;28mself\u001b[39m.data) - \u001b[38;5;28mself\u001b[39m.limit\n",
      "\u001b[31mTypeError\u001b[39m: 'NoneType' object does not support item assignment"
     ]
    }
   ],
   "source": [
    "a.add(4)"
   ]
  },
  {
   "cell_type": "code",
   "execution_count": null,
   "id": "5da9d6e1",
   "metadata": {},
   "outputs": [
    {
     "ename": "IndexError",
     "evalue": "list assignment index out of range",
     "output_type": "error",
     "traceback": [
      "\u001b[31m---------------------------------------------------------------------------\u001b[39m",
      "\u001b[31mIndexError\u001b[39m                                Traceback (most recent call last)",
      "\u001b[36mCell\u001b[39m\u001b[36m \u001b[39m\u001b[32mIn[49]\u001b[39m\u001b[32m, line 1\u001b[39m\n\u001b[32m----> \u001b[39m\u001b[32m1\u001b[39m \u001b[43ma\u001b[49m\u001b[43m[\u001b[49m\u001b[32;43m0\u001b[39;49m\u001b[43m]\u001b[49m = \u001b[32m1\u001b[39m\n",
      "\u001b[31mIndexError\u001b[39m: list assignment index out of range"
     ]
    }
   ],
   "source": []
  },
  {
   "cell_type": "code",
   "execution_count": 31,
   "id": "ba9380b0",
   "metadata": {},
   "outputs": [],
   "source": [
    "a.update()"
   ]
  },
  {
   "cell_type": "code",
   "execution_count": 37,
   "id": "edb480d3",
   "metadata": {},
   "outputs": [
    {
     "data": {
      "text/plain": [
       "4"
      ]
     },
     "execution_count": 37,
     "metadata": {},
     "output_type": "execute_result"
    }
   ],
   "source": [
    "len(a.data)"
   ]
  },
  {
   "cell_type": "code",
   "execution_count": 38,
   "id": "0176cec4",
   "metadata": {},
   "outputs": [
    {
     "name": "stdout",
     "output_type": "stream",
     "text": [
      "[-1, 2, 3, 4]\n"
     ]
    }
   ],
   "source": [
    "print(a.data)"
   ]
  },
  {
   "cell_type": "code",
   "execution_count": 16,
   "id": "605e91e3",
   "metadata": {},
   "outputs": [],
   "source": [
    "a = [1,2,3]"
   ]
  },
  {
   "cell_type": "code",
   "execution_count": 17,
   "id": "a19b0c1c",
   "metadata": {},
   "outputs": [],
   "source": [
    "b = a[4:\n",
    "      ]"
   ]
  },
  {
   "cell_type": "code",
   "execution_count": 18,
   "id": "85dff5c1",
   "metadata": {},
   "outputs": [
    {
     "data": {
      "text/plain": [
       "[]"
      ]
     },
     "execution_count": 18,
     "metadata": {},
     "output_type": "execute_result"
    }
   ],
   "source": [
    "b"
   ]
  },
  {
   "cell_type": "code",
   "execution_count": 201,
   "id": "106413e9",
   "metadata": {},
   "outputs": [],
   "source": [
    "from typing import Dict\n",
    "import random\n",
    "class RolloutBuffer:\n",
    "\n",
    "    def __init__(self, game_env):\n",
    "        self.game_env = game_env\n",
    "\n",
    "    def on_step(self, context, response, done, info):\n",
    "        pass\n",
    "\n",
    "    def on_done(self):\n",
    "        pass\n",
    "\n",
    "    def reset(self):\n",
    "        pass\n",
    "\n",
    "    def get_perspective_of(self, player):\n",
    "        pass  # todo\n",
    "\n",
    "class StepRolloutBuffer(RolloutBuffer):\n",
    "    \"\"\" This buffer can collect the trajectories generated by a game env \"\"\"\n",
    "\n",
    "    def __init__(self, game_env):\n",
    "        super().__init__(game_env)\n",
    "        self.trajectories: List = None\n",
    "        self.current_trajectory: int = None\n",
    "        self.reset()\n",
    "\n",
    "    def on_step(self, context, response, done, info):\n",
    "        step = dict(context=context, response=response, done=done, info=info)\n",
    "        self.trajectories[self.current_trajectory].append(step)\n",
    "\n",
    "    def on_done(self):\n",
    "        self.trajectories.append([])\n",
    "        self.current_trajectory += 1\n",
    "\n",
    "    def reset(self):\n",
    "        self.trajectories = [[]]\n",
    "        self.current_trajectory = 0\n",
    "\n",
    "    def sample_trajectories(self):\n",
    "        return self.trajectories\n",
    "\n",
    "class ReplayBuffer(StepRolloutBuffer):\n",
    "    \"\"\"Replay buffer with a fixed size that removes the oldest samples when full.\n",
    "    \n",
    "    ! on step not working as intended -> without resetting, length of self.current_Trajectory becomes > than self.trajectories.\n",
    "      Out of range index error.\n",
    "    \"\"\"\n",
    "\n",
    "    def __init__(self, game_env, buffer_size: int, sample_size: int):\n",
    "        \"\"\"\n",
    "        buffer size defines trajectories currently. Should it define steps/\n",
    "        \"\"\"\n",
    "        super().__init__(game_env)\n",
    "        self.buffer_size = buffer_size\n",
    "        self.sample_size = sample_size\n",
    "\n",
    "    def on_done(self):\n",
    "        \"\"\"Add the current trajectory to the buffer and enforce buffer size.\"\"\"\n",
    "        super().on_done()\n",
    "        # Remove the oldest trajectories if the buffer exceeds its size\n",
    "        excess_count = len(self.trajectories) - self.buffer_size\n",
    "        if excess_count > 0:\n",
    "            self.trajectories = self.trajectories[excess_count:]  # Keep only the most recent trajectories\n",
    "            self.current_trajectory -= excess_count\n",
    "            print(excess_count)\n",
    "        if self.current_trajectory < 0:\n",
    "            self.current_trajectory = 0\n",
    "            print(self.current_trajectory)\n",
    "\n",
    "    def sample(self, sample_size: int):\n",
    "        \"\"\"Randomly sample trajectories from the buffer.\"\"\"\n",
    "        if len(self.trajectories) < sample_size:\n",
    "            return self.trajectories[:-1]\n",
    "        return random.sample(self.trajectories[:-1], sample_size)\n",
    "\n",
    "    def sample_trajectories(self):\n",
    "        \"\"\"Return a random sample of trajectories.\"\"\"\n",
    "        return self.sample(self.sample_size)\n",
    "    "
   ]
  },
  {
   "cell_type": "code",
   "execution_count": 202,
   "id": "626754e1",
   "metadata": {},
   "outputs": [],
   "source": [
    "a = ReplayBuffer('game_env', 5, 1)"
   ]
  },
  {
   "cell_type": "code",
   "execution_count": 203,
   "id": "7b2337c8",
   "metadata": {},
   "outputs": [],
   "source": [
    "a.on_step(1, 1, 1, 1)\n",
    "a.on_step(1, 1, 1, 1)\n",
    "a.on_step(1, 1, 1, 1)\n",
    "a.on_done()\n",
    "a.on_step(2,2,2,2)\n",
    "a.on_step(2,2,2,2)\n",
    "a.on_step(2,2,2,2)\n",
    "a.on_step(2,2,2,2)\n",
    "\n",
    "a.on_done()\n",
    "a.on_step(3,3,3,3)\n",
    "a.on_step(3,3,3,3)\n",
    "a.on_step(3,3,3,3)\n",
    "a.on_step(3,3,3,3)\n",
    "\n",
    "a.on_done()\n",
    "a.on_step(4,4,4,4)\n",
    "a.on_step(4,4,4,4)\n",
    "a.on_step(4,4,4,4)\n",
    "a.on_step(4,4,4,4)\n",
    "\n",
    "a.on_done()\n"
   ]
  },
  {
   "cell_type": "code",
   "execution_count": 147,
   "id": "78b532c9",
   "metadata": {},
   "outputs": [
    {
     "data": {
      "text/plain": [
       "[[{'context': 1, 'response': 1, 'done': 1, 'info': 1},\n",
       "  {'context': 1, 'response': 1, 'done': 1, 'info': 1},\n",
       "  {'context': 1, 'response': 1, 'done': 1, 'info': 1}],\n",
       " [{'context': 2, 'response': 2, 'done': 2, 'info': 2},\n",
       "  {'context': 2, 'response': 2, 'done': 2, 'info': 2},\n",
       "  {'context': 2, 'response': 2, 'done': 2, 'info': 2},\n",
       "  {'context': 2, 'response': 2, 'done': 2, 'info': 2}],\n",
       " [{'context': 3, 'response': 3, 'done': 3, 'info': 3},\n",
       "  {'context': 3, 'response': 3, 'done': 3, 'info': 3},\n",
       "  {'context': 3, 'response': 3, 'done': 3, 'info': 3},\n",
       "  {'context': 3, 'response': 3, 'done': 3, 'info': 3}],\n",
       " [{'context': 4, 'response': 4, 'done': 4, 'info': 4},\n",
       "  {'context': 4, 'response': 4, 'done': 4, 'info': 4},\n",
       "  {'context': 4, 'response': 4, 'done': 4, 'info': 4},\n",
       "  {'context': 4, 'response': 4, 'done': 4, 'info': 4}],\n",
       " []]"
      ]
     },
     "execution_count": 147,
     "metadata": {},
     "output_type": "execute_result"
    }
   ],
   "source": [
    "a.trajectories"
   ]
  },
  {
   "cell_type": "code",
   "execution_count": 137,
   "id": "b62ac149",
   "metadata": {},
   "outputs": [
    {
     "name": "stdout",
     "output_type": "stream",
     "text": [
      "1\n"
     ]
    },
    {
     "data": {
      "text/plain": [
       "[[{'context': 2, 'response': 2, 'done': 2, 'info': 2},\n",
       "  {'context': 2, 'response': 2, 'done': 2, 'info': 2},\n",
       "  {'context': 2, 'response': 2, 'done': 2, 'info': 2},\n",
       "  {'context': 2, 'response': 2, 'done': 2, 'info': 2}],\n",
       " [{'context': 3, 'response': 3, 'done': 3, 'info': 3},\n",
       "  {'context': 3, 'response': 3, 'done': 3, 'info': 3},\n",
       "  {'context': 3, 'response': 3, 'done': 3, 'info': 3},\n",
       "  {'context': 3, 'response': 3, 'done': 3, 'info': 3}],\n",
       " [{'context': 4, 'response': 4, 'done': 4, 'info': 4},\n",
       "  {'context': 4, 'response': 4, 'done': 4, 'info': 4},\n",
       "  {'context': 4, 'response': 4, 'done': 4, 'info': 4},\n",
       "  {'context': 4, 'response': 4, 'done': 4, 'info': 4}],\n",
       " [{'context': 5, 'response': 5, 'done': 5, 'info': 5},\n",
       "  {'context': 5, 'response': 5, 'done': 5, 'info': 5},\n",
       "  {'context': 5, 'response': 5, 'done': 5, 'info': 5},\n",
       "  {'context': 5, 'response': 5, 'done': 5, 'info': 5},\n",
       "  {'context': 5, 'response': 5, 'done': 5, 'info': 5}],\n",
       " []]"
      ]
     },
     "execution_count": 137,
     "metadata": {},
     "output_type": "execute_result"
    }
   ],
   "source": [
    "a.on_step(5,5,5,5)\n",
    "a.on_step(5,5,5,5)\n",
    "a.on_step(5,5,5,5)\n",
    "a.on_step(5,5,5,5)\n",
    "a.on_step(5,5,5,5)\n",
    "a.on_done()\n",
    "a.trajectories"
   ]
  },
  {
   "cell_type": "code",
   "execution_count": 138,
   "id": "d8f62774",
   "metadata": {},
   "outputs": [
    {
     "name": "stdout",
     "output_type": "stream",
     "text": [
      "1\n"
     ]
    }
   ],
   "source": [
    "a.on_step(7,7,7,7)\n",
    "a.on_step(7,7,7,7)\n",
    "a.on_step(7,7,7,7)\n",
    "a.on_step(7,7,7,7)\n",
    "a.on_step(7,7,7,7)\n",
    "a.on_step(7,7,7,7)\n",
    "a.on_done()"
   ]
  },
  {
   "cell_type": "code",
   "execution_count": 204,
   "id": "60232e2d",
   "metadata": {},
   "outputs": [
    {
     "data": {
      "text/plain": [
       "[[{'context': 1, 'response': 1, 'done': 1, 'info': 1},\n",
       "  {'context': 1, 'response': 1, 'done': 1, 'info': 1},\n",
       "  {'context': 1, 'response': 1, 'done': 1, 'info': 1}],\n",
       " [{'context': 2, 'response': 2, 'done': 2, 'info': 2},\n",
       "  {'context': 2, 'response': 2, 'done': 2, 'info': 2},\n",
       "  {'context': 2, 'response': 2, 'done': 2, 'info': 2},\n",
       "  {'context': 2, 'response': 2, 'done': 2, 'info': 2}],\n",
       " [{'context': 3, 'response': 3, 'done': 3, 'info': 3},\n",
       "  {'context': 3, 'response': 3, 'done': 3, 'info': 3},\n",
       "  {'context': 3, 'response': 3, 'done': 3, 'info': 3},\n",
       "  {'context': 3, 'response': 3, 'done': 3, 'info': 3}],\n",
       " [{'context': 4, 'response': 4, 'done': 4, 'info': 4},\n",
       "  {'context': 4, 'response': 4, 'done': 4, 'info': 4},\n",
       "  {'context': 4, 'response': 4, 'done': 4, 'info': 4},\n",
       "  {'context': 4, 'response': 4, 'done': 4, 'info': 4}],\n",
       " []]"
      ]
     },
     "execution_count": 204,
     "metadata": {},
     "output_type": "execute_result"
    }
   ],
   "source": [
    "a.trajectories"
   ]
  },
  {
   "cell_type": "code",
   "execution_count": 222,
   "id": "f00b6245",
   "metadata": {},
   "outputs": [
    {
     "data": {
      "text/plain": [
       "[[{'context': 3, 'response': 3, 'done': 3, 'info': 3},\n",
       "  {'context': 3, 'response': 3, 'done': 3, 'info': 3},\n",
       "  {'context': 3, 'response': 3, 'done': 3, 'info': 3},\n",
       "  {'context': 3, 'response': 3, 'done': 3, 'info': 3}]]"
      ]
     },
     "execution_count": 222,
     "metadata": {},
     "output_type": "execute_result"
    }
   ],
   "source": [
    "a.sample_trajectories()"
   ]
  },
  {
   "cell_type": "code",
   "execution_count": null,
   "id": "2bd66bf3",
   "metadata": {},
   "outputs": [],
   "source": []
  },
  {
   "cell_type": "code",
   "execution_count": 153,
   "id": "af7bebaf",
   "metadata": {},
   "outputs": [
    {
     "data": {
      "text/plain": [
       "[[{'context': 2, 'response': 2, 'done': 2, 'info': 2},\n",
       "  {'context': 2, 'response': 2, 'done': 2, 'info': 2},\n",
       "  {'context': 2, 'response': 2, 'done': 2, 'info': 2},\n",
       "  {'context': 2, 'response': 2, 'done': 2, 'info': 2}],\n",
       " [{'context': 4, 'response': 4, 'done': 4, 'info': 4},\n",
       "  {'context': 4, 'response': 4, 'done': 4, 'info': 4},\n",
       "  {'context': 4, 'response': 4, 'done': 4, 'info': 4},\n",
       "  {'context': 4, 'response': 4, 'done': 4, 'info': 4}],\n",
       " [{'context': 1, 'response': 1, 'done': 1, 'info': 1},\n",
       "  {'context': 1, 'response': 1, 'done': 1, 'info': 1},\n",
       "  {'context': 1, 'response': 1, 'done': 1, 'info': 1}],\n",
       " [],\n",
       " [{'context': 3, 'response': 3, 'done': 3, 'info': 3},\n",
       "  {'context': 3, 'response': 3, 'done': 3, 'info': 3},\n",
       "  {'context': 3, 'response': 3, 'done': 3, 'info': 3},\n",
       "  {'context': 3, 'response': 3, 'done': 3, 'info': 3}]]"
      ]
     },
     "execution_count": 153,
     "metadata": {},
     "output_type": "execute_result"
    }
   ],
   "source": [
    "a.sample(5)"
   ]
  },
  {
   "cell_type": "code",
   "execution_count": 154,
   "id": "c1da7243",
   "metadata": {},
   "outputs": [],
   "source": [
    "b = a.sample(3)"
   ]
  },
  {
   "cell_type": "code",
   "execution_count": 157,
   "id": "436ab495",
   "metadata": {},
   "outputs": [
    {
     "data": {
      "text/plain": [
       "[[],\n",
       " [{'context': 2, 'response': 2, 'done': 2, 'info': 2},\n",
       "  {'context': 2, 'response': 2, 'done': 2, 'info': 2},\n",
       "  {'context': 2, 'response': 2, 'done': 2, 'info': 2},\n",
       "  {'context': 2, 'response': 2, 'done': 2, 'info': 2}],\n",
       " [{'context': 1, 'response': 1, 'done': 1, 'info': 1},\n",
       "  {'context': 1, 'response': 1, 'done': 1, 'info': 1},\n",
       "  {'context': 1, 'response': 1, 'done': 1, 'info': 1}]]"
      ]
     },
     "execution_count": 157,
     "metadata": {},
     "output_type": "execute_result"
    }
   ],
   "source": [
    "b"
   ]
  },
  {
   "cell_type": "code",
   "execution_count": 174,
   "id": "f56bba86",
   "metadata": {},
   "outputs": [],
   "source": [
    "from torch.utils.data import Dataset\n",
    "import torch\n",
    "class StepRolloutDataset(Dataset):\n",
    "    \"\"\"\n",
    "    Goal of this fn is to enable sampling from the buffer, and also to enable random sampling\n",
    "    individual observations without the entire trajectory. We want to break linearity in training \n",
    "    and stop models from overfitting on sequences.\n",
    "    \"\"\"\n",
    "    def __init__(self, trajectories: list[dict[str, dict]]):\n",
    "        self.samples = []\n",
    "        # Flatten trajectories into individual transition samples\n",
    "\n",
    "        # context returns a list of previous interactions (each interaction is a dict)}\n",
    "        for trajectory in trajectories:\n",
    "            for i in range(len(trajectory) - 1):  # -1 to handle next_obs\n",
    "                current = trajectory[i]\n",
    "                next_step = trajectory[i + 1]\n",
    "                self.samples.append({\n",
    "                    'obs': current['context'],\n",
    "                    'action': current['response'],\n",
    "                    'reward': torch.tensor(current['info'], dtype=torch.float),\n",
    "                    'next_obs': next_step['context'],\n",
    "                    'done': torch.tensor(current['done'], dtype=torch.bool)\n",
    "                })\n",
    "    \n",
    "    def __len__(self):\n",
    "        return len(self.samples)\n",
    "    \n",
    "    def __getitem__(self, idx):\n",
    "        sample = self.samples[idx]\n",
    "        return sample\n"
   ]
  },
  {
   "cell_type": "code",
   "execution_count": 199,
   "id": "3dbf779f",
   "metadata": {},
   "outputs": [
    {
     "name": "stdout",
     "output_type": "stream",
     "text": [
      "[[{'context': 3, 'response': 3, 'done': 3, 'info': 3}, {'context': 3, 'response': 3, 'done': 3, 'info': 3}, {'context': 3, 'response': 3, 'done': 3, 'info': 3}, {'context': 3, 'response': 3, 'done': 3, 'info': 3}], [], [{'context': 4, 'response': 4, 'done': 4, 'info': 4}, {'context': 4, 'response': 4, 'done': 4, 'info': 4}, {'context': 4, 'response': 4, 'done': 4, 'info': 4}, {'context': 4, 'response': 4, 'done': 4, 'info': 4}]]\n"
     ]
    }
   ],
   "source": [
    "s = a.sample(3)\n",
    "print(s)\n",
    "b = StepRolloutDataset(s)"
   ]
  },
  {
   "cell_type": "code",
   "execution_count": 200,
   "id": "3542ce2e",
   "metadata": {},
   "outputs": [
    {
     "data": {
      "text/plain": [
       "6"
      ]
     },
     "execution_count": 200,
     "metadata": {},
     "output_type": "execute_result"
    }
   ],
   "source": [
    "len(b)"
   ]
  },
  {
   "cell_type": "code",
   "execution_count": 190,
   "id": "912ff0ad",
   "metadata": {},
   "outputs": [
    {
     "name": "stdout",
     "output_type": "stream",
     "text": [
      "{'obs': 4, 'action': 4, 'reward': tensor(4.), 'next_obs': 4, 'done': tensor(True)}\n",
      "{'obs': 4, 'action': 4, 'reward': tensor(4.), 'next_obs': 4, 'done': tensor(True)}\n",
      "{'obs': 4, 'action': 4, 'reward': tensor(4.), 'next_obs': 4, 'done': tensor(True)}\n"
     ]
    }
   ],
   "source": [
    "for item in b:\n",
    "    print(item)"
   ]
  },
  {
   "cell_type": "code",
   "execution_count": 1,
   "id": "1e8ce462",
   "metadata": {},
   "outputs": [],
   "source": [
    "import pickle\n",
    "\n",
    "def load_replay_buffer(buffer_path):\n",
    "    \"\"\"\n",
    "    Load the replay buffer from a file.\n",
    "\n",
    "    Args:\n",
    "        buffer_path (str): Path to the replay buffer file.\n",
    "\n",
    "    Returns:\n",
    "        dict: The loaded replay buffer data.\n",
    "    \"\"\"\n",
    "    try:\n",
    "        with open(buffer_path, \"rb\") as f:\n",
    "            buffer_data = pickle.load(f)\n",
    "        print(f\"Replay buffer loaded from {buffer_path}\")\n",
    "        return buffer_data\n",
    "    except FileNotFoundError:\n",
    "        print(f\"Replay buffer file not found at {buffer_path}\")\n",
    "        return None\n",
    "    except Exception as e:\n",
    "        print(f\"An error occurred while loading the buffer: {e}\")\n",
    "        return None"
   ]
  },
  {
   "cell_type": "code",
   "execution_count": 4,
   "id": "e1e81c6e",
   "metadata": {},
   "outputs": [
    {
     "name": "stdout",
     "output_type": "stream",
     "text": [
      "Replay buffer loaded from /home/users/dristic/project/Archer/checkpoints/best_checkpoint.pt_replay_buffer.pkl\n"
     ]
    }
   ],
   "source": [
    "\n",
    "a = load_replay_buffer('/home/users/dristic/project/Archer/checkpoints/best_checkpoint.pt_replay_buffer.pkl')"
   ]
  },
  {
   "cell_type": "code",
   "execution_count": 18,
   "id": "716498c1",
   "metadata": {},
   "outputs": [
    {
     "data": {
      "text/plain": [
       "{'context': [{'role': 'user',\n",
       "   'content': \"Provide a comma-separated list of up to 4 words from the following list that best relate or are most closely associated with the word 'trial'. Always start your list of guess(es) with 'GUESS: ' and do not include any other text in your answer.\\n\\npresent, life, case, brother, moment, tv, lawyer, gun, future, history, trouble, sense, haven, team, star, king, afternoon, past, hell, party, bit, dinner, bar, message, boss\"}],\n",
       " 'response': [{'role': 'assistant',\n",
       "   'content': 'GUESS: case, lawyer, trouble, trial.'}],\n",
       " 'done': True,\n",
       " 'info': {'episode_score': 10,\n",
       "  'lost': False,\n",
       "  'aborted': True,\n",
       "  'success': False,\n",
       "  'game_id': 4}}"
      ]
     },
     "execution_count": 18,
     "metadata": {},
     "output_type": "execute_result"
    }
   ],
   "source": [
    "a['trajectories'][5][-1]"
   ]
  },
  {
   "cell_type": "code",
   "execution_count": null,
   "id": "280cfd01",
   "metadata": {},
   "outputs": [],
   "source": []
  }
 ],
 "metadata": {
  "kernelspec": {
   "display_name": ".venv",
   "language": "python",
   "name": "python3"
  },
  "language_info": {
   "codemirror_mode": {
    "name": "ipython",
    "version": 3
   },
   "file_extension": ".py",
   "mimetype": "text/x-python",
   "name": "python",
   "nbconvert_exporter": "python",
   "pygments_lexer": "ipython3",
   "version": "3.10.12"
  }
 },
 "nbformat": 4,
 "nbformat_minor": 5
}
