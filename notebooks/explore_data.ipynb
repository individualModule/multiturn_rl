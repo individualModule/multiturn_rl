{
 "cells": [
  {
   "cell_type": "code",
   "execution_count": 25,
   "id": "280cfd01",
   "metadata": {},
   "outputs": [
    {
     "name": "stdout",
     "output_type": "stream",
     "text": [
      "Dataset loaded successfully: <dataloaders.playpen_dataloader.FlatBufferDataset object at 0x70a93822da80>\n"
     ]
    }
   ],
   "source": [
    "import pickle\n",
    "import sys\n",
    "from torch.utils.data import DataLoader\n",
    "\n",
    "sys.path.append(\"/home/users/dristic/project/Archer\")\n",
    "\n",
    "# from multiturn_rl.dataloaders.playpen_dataloader import FlatBufferDataset, custom_collate_fn\n",
    "from multiturn_rl import dataloaders\n",
    "import pickle\n",
    "\n",
    "sys.modules['dataloaders'] = dataloaders\n",
    "with open(\"/home/users/dristic/project/Archer/critic_dataset.pkl\", \"rb\") as f:\n",
    "    dataset = pickle.load(f)\n",
    "\n",
    "print(\"Dataset loaded successfully:\", dataset)"
   ]
  },
  {
   "cell_type": "code",
   "execution_count": 29,
   "id": "78b6f3db",
   "metadata": {},
   "outputs": [
    {
     "data": {
      "text/plain": [
       "{'obs': [{'role': 'user',\n",
       "   'content': 'You are a language wizard who likes to guess words by using the given rules.\\n\\nWelcome to Wordle! You have six attempts to guess the target word, a valid English word of five lowercase letters (a-z). Please use the tags \"explanation:\" and \"guess:\" to provide a concise explanation for each guess.\\n\\nFor instance, if your guess is \"apple\", your response should be\\nexplanation: this is a common five-letter English word, and I am starting my guess with this word.\\nguess: apple\\n\\nAfter each guess, your answer will be validated, and you will receive feedback indicating which letters are correct (green), which letters are correct but in the wrong position (yellow), and which letters are incorrect (red). This feedback can be useful in determining which letters to include or exclude in your next guess.\\n\\nFor example, the feedback for \"apple\" might be:\\nguess_feedback: a<yellow> p<yellow> p<green> l<yellow> e<red>\\n\\nThe explanation should contain details about how the guess_feedback is used to arrive at a new guess.\\n\\nDo not generate any other text.\\n\\nLet\\'s begin with your first guess.'},\n",
       "  {'role': 'assistant',\n",
       "   'content': 'explanation: this is a common five-letter English word that is often associated with a computer.\\nguess: house'},\n",
       "  {'role': 'user',\n",
       "   'content': 'guess_feedback: h<red> o<red> u<red> s<red> e<yellow>\\n\\nProvide your response only in this format.\\nexplanation: details\\nguess: word'}],\n",
       " 'action': [{'role': 'assistant',\n",
       "   'content': \"explanation: since 'e' is in the correct position, it's likely a word that contains the letter 'e' and might have a common suffix like -se. Given the word contains 'u' and all other letters are incorrect, I'll try a new guess with a word that includes these letters.\\nguess: used\"}],\n",
       " 'reward': tensor(0.),\n",
       " 'next_obs': [{'role': 'user',\n",
       "   'content': 'You are a language wizard who likes to guess words by using the given rules.\\n\\nWelcome to Wordle! You have six attempts to guess the target word, a valid English word of five lowercase letters (a-z). Please use the tags \"explanation:\" and \"guess:\" to provide a concise explanation for each guess.\\n\\nFor instance, if your guess is \"apple\", your response should be\\nexplanation: this is a common five-letter English word, and I am starting my guess with this word.\\nguess: apple\\n\\nAfter each guess, your answer will be validated, and you will receive feedback indicating which letters are correct (green), which letters are correct but in the wrong position (yellow), and which letters are incorrect (red). This feedback can be useful in determining which letters to include or exclude in your next guess.\\n\\nFor example, the feedback for \"apple\" might be:\\nguess_feedback: a<yellow> p<yellow> p<green> l<yellow> e<red>\\n\\nThe explanation should contain details about how the guess_feedback is used to arrive at a new guess.\\n\\nDo not generate any other text.\\n\\nLet\\'s begin with your first guess.'},\n",
       "  {'role': 'assistant',\n",
       "   'content': 'explanation: this is a common five-letter English word that is often associated with a computer.\\nguess: house'},\n",
       "  {'role': 'user',\n",
       "   'content': 'guess_feedback: h<red> o<red> u<red> s<red> e<yellow>\\n\\nProvide your response only in this format.\\nexplanation: details\\nguess: word'}],\n",
       " 'done': tensor(True)}"
      ]
     },
     "execution_count": 29,
     "metadata": {},
     "output_type": "execute_result"
    }
   ],
   "source": [
    "dataset[0]"
   ]
  },
  {
   "cell_type": "code",
   "execution_count": 30,
   "id": "acad1a07",
   "metadata": {},
   "outputs": [
    {
     "data": {
      "text/plain": [
       "256"
      ]
     },
     "execution_count": 30,
     "metadata": {},
     "output_type": "execute_result"
    }
   ],
   "source": [
    "len(dataset)"
   ]
  },
  {
   "cell_type": "code",
   "execution_count": 38,
   "id": "f0985594",
   "metadata": {},
   "outputs": [
    {
     "data": {
      "text/plain": [
       "dict_keys(['obs', 'action', 'reward', 'next_obs', 'done'])"
      ]
     },
     "execution_count": 38,
     "metadata": {},
     "output_type": "execute_result"
    }
   ],
   "source": [
    "dataset[1].keys()"
   ]
  },
  {
   "cell_type": "code",
   "execution_count": 40,
   "id": "67ae43cf",
   "metadata": {},
   "outputs": [
    {
     "data": {
      "text/plain": [
       "tensor(0.)"
      ]
     },
     "execution_count": 40,
     "metadata": {},
     "output_type": "execute_result"
    }
   ],
   "source": [
    "dataset[0]['reward']"
   ]
  },
  {
   "cell_type": "code",
   "execution_count": 46,
   "id": "80c7d572",
   "metadata": {},
   "outputs": [
    {
     "data": {
      "text/plain": [
       "5"
      ]
     },
     "execution_count": 46,
     "metadata": {},
     "output_type": "execute_result"
    }
   ],
   "source": [
    "len(dataset[50])"
   ]
  },
  {
   "cell_type": "code",
   "execution_count": 48,
   "id": "afe926c8",
   "metadata": {},
   "outputs": [
    {
     "name": "stdout",
     "output_type": "stream",
     "text": [
      "{'action': [{'content': \"explanation: since 'e' is in the correct position, \"\n",
      "                        \"it's likely a word that contains the letter 'e' and \"\n",
      "                        'might have a common suffix like -se. Given the word '\n",
      "                        \"contains 'u' and all other letters are incorrect, \"\n",
      "                        \"I'll try a new guess with a word that includes these \"\n",
      "                        'letters.\\n'\n",
      "                        'guess: used',\n",
      "             'role': 'assistant'}],\n",
      " 'done': tensor(True),\n",
      " 'next_obs': [{'content': 'You are a language wizard who likes to guess words '\n",
      "                          'by using the given rules.\\n'\n",
      "                          '\\n'\n",
      "                          'Welcome to Wordle! You have six attempts to guess '\n",
      "                          'the target word, a valid English word of five '\n",
      "                          'lowercase letters (a-z). Please use the tags '\n",
      "                          '\"explanation:\" and \"guess:\" to provide a concise '\n",
      "                          'explanation for each guess.\\n'\n",
      "                          '\\n'\n",
      "                          'For instance, if your guess is \"apple\", your '\n",
      "                          'response should be\\n'\n",
      "                          'explanation: this is a common five-letter English '\n",
      "                          'word, and I am starting my guess with this word.\\n'\n",
      "                          'guess: apple\\n'\n",
      "                          '\\n'\n",
      "                          'After each guess, your answer will be validated, '\n",
      "                          'and you will receive feedback indicating which '\n",
      "                          'letters are correct (green), which letters are '\n",
      "                          'correct but in the wrong position (yellow), and '\n",
      "                          'which letters are incorrect (red). This feedback '\n",
      "                          'can be useful in determining which letters to '\n",
      "                          'include or exclude in your next guess.\\n'\n",
      "                          '\\n'\n",
      "                          'For example, the feedback for \"apple\" might be:\\n'\n",
      "                          'guess_feedback: a<yellow> p<yellow> p<green> '\n",
      "                          'l<yellow> e<red>\\n'\n",
      "                          '\\n'\n",
      "                          'The explanation should contain details about how '\n",
      "                          'the guess_feedback is used to arrive at a new '\n",
      "                          'guess.\\n'\n",
      "                          '\\n'\n",
      "                          'Do not generate any other text.\\n'\n",
      "                          '\\n'\n",
      "                          \"Let's begin with your first guess.\",\n",
      "               'role': 'user'},\n",
      "              {'content': 'explanation: this is a common five-letter English '\n",
      "                          'word that is often associated with a computer.\\n'\n",
      "                          'guess: house',\n",
      "               'role': 'assistant'},\n",
      "              {'content': 'guess_feedback: h<red> o<red> u<red> s<red> '\n",
      "                          'e<yellow>\\n'\n",
      "                          '\\n'\n",
      "                          'Provide your response only in this format.\\n'\n",
      "                          'explanation: details\\n'\n",
      "                          'guess: word',\n",
      "               'role': 'user'}],\n",
      " 'obs': [{'content': 'You are a language wizard who likes to guess words by '\n",
      "                     'using the given rules.\\n'\n",
      "                     '\\n'\n",
      "                     'Welcome to Wordle! You have six attempts to guess the '\n",
      "                     'target word, a valid English word of five lowercase '\n",
      "                     'letters (a-z). Please use the tags \"explanation:\" and '\n",
      "                     '\"guess:\" to provide a concise explanation for each '\n",
      "                     'guess.\\n'\n",
      "                     '\\n'\n",
      "                     'For instance, if your guess is \"apple\", your response '\n",
      "                     'should be\\n'\n",
      "                     'explanation: this is a common five-letter English word, '\n",
      "                     'and I am starting my guess with this word.\\n'\n",
      "                     'guess: apple\\n'\n",
      "                     '\\n'\n",
      "                     'After each guess, your answer will be validated, and you '\n",
      "                     'will receive feedback indicating which letters are '\n",
      "                     'correct (green), which letters are correct but in the '\n",
      "                     'wrong position (yellow), and which letters are incorrect '\n",
      "                     '(red). This feedback can be useful in determining which '\n",
      "                     'letters to include or exclude in your next guess.\\n'\n",
      "                     '\\n'\n",
      "                     'For example, the feedback for \"apple\" might be:\\n'\n",
      "                     'guess_feedback: a<yellow> p<yellow> p<green> l<yellow> '\n",
      "                     'e<red>\\n'\n",
      "                     '\\n'\n",
      "                     'The explanation should contain details about how the '\n",
      "                     'guess_feedback is used to arrive at a new guess.\\n'\n",
      "                     '\\n'\n",
      "                     'Do not generate any other text.\\n'\n",
      "                     '\\n'\n",
      "                     \"Let's begin with your first guess.\",\n",
      "          'role': 'user'},\n",
      "         {'content': 'explanation: this is a common five-letter English word '\n",
      "                     'that is often associated with a computer.\\n'\n",
      "                     'guess: house',\n",
      "          'role': 'assistant'},\n",
      "         {'content': 'guess_feedback: h<red> o<red> u<red> s<red> e<yellow>\\n'\n",
      "                     '\\n'\n",
      "                     'Provide your response only in this format.\\n'\n",
      "                     'explanation: details\\n'\n",
      "                     'guess: word',\n",
      "          'role': 'user'}],\n",
      " 'reward': tensor(0.)}\n"
     ]
    }
   ],
   "source": [
    "import pprint\n",
    "\n",
    "pprint.pprint(dataset[0])\n",
    "\n"
   ]
  },
  {
   "cell_type": "code",
   "execution_count": 51,
   "id": "42d5e3a5",
   "metadata": {},
   "outputs": [
    {
     "data": {
      "text/plain": [
       "3"
      ]
     },
     "execution_count": 51,
     "metadata": {},
     "output_type": "execute_result"
    }
   ],
   "source": [
    "len(dataset[0]['obs'])"
   ]
  },
  {
   "cell_type": "code",
   "execution_count": 56,
   "id": "7b0da96a",
   "metadata": {},
   "outputs": [
    {
     "name": "stdout",
     "output_type": "stream",
     "text": [
      "3\n",
      "9\n",
      "5\n",
      "1\n",
      "5\n",
      "9\n",
      "3\n",
      "5\n",
      "3\n",
      "3\n",
      "1\n",
      "3\n",
      "1\n",
      "7\n",
      "1\n",
      "5\n",
      "5\n",
      "5\n",
      "1\n",
      "3\n",
      "9\n",
      "1\n",
      "9\n",
      "1\n",
      "3\n",
      "1\n",
      "3\n",
      "3\n",
      "1\n",
      "5\n",
      "5\n",
      "1\n",
      "5\n",
      "3\n",
      "5\n",
      "5\n",
      "5\n",
      "7\n",
      "1\n",
      "1\n",
      "3\n",
      "5\n",
      "3\n",
      "1\n",
      "7\n",
      "9\n",
      "5\n",
      "9\n",
      "5\n",
      "7\n",
      "11\n",
      "3\n",
      "11\n",
      "9\n",
      "7\n",
      "5\n",
      "1\n",
      "1\n",
      "9\n",
      "7\n",
      "3\n",
      "7\n",
      "9\n",
      "3\n",
      "1\n",
      "9\n",
      "3\n",
      "9\n",
      "3\n",
      "7\n",
      "11\n",
      "5\n",
      "9\n",
      "3\n",
      "1\n",
      "7\n",
      "7\n",
      "5\n",
      "5\n",
      "3\n",
      "11\n",
      "3\n",
      "5\n",
      "5\n",
      "7\n",
      "3\n",
      "3\n",
      "3\n",
      "5\n",
      "9\n",
      "5\n",
      "3\n",
      "3\n",
      "5\n",
      "3\n",
      "7\n",
      "3\n",
      "7\n",
      "9\n",
      "3\n",
      "1\n",
      "3\n",
      "1\n",
      "3\n",
      "3\n",
      "1\n",
      "7\n",
      "5\n",
      "7\n",
      "1\n",
      "7\n",
      "3\n",
      "7\n",
      "11\n",
      "3\n",
      "3\n",
      "5\n",
      "5\n",
      "1\n",
      "1\n",
      "3\n",
      "3\n",
      "1\n",
      "1\n",
      "9\n",
      "1\n",
      "7\n",
      "5\n",
      "1\n",
      "5\n",
      "5\n",
      "7\n",
      "3\n",
      "7\n",
      "3\n",
      "5\n",
      "5\n",
      "1\n",
      "3\n",
      "11\n",
      "5\n",
      "5\n",
      "1\n",
      "1\n",
      "5\n",
      "9\n",
      "1\n",
      "3\n",
      "1\n",
      "3\n",
      "3\n",
      "5\n",
      "5\n",
      "1\n",
      "11\n",
      "9\n",
      "11\n",
      "3\n",
      "9\n",
      "5\n",
      "3\n",
      "1\n",
      "1\n",
      "9\n",
      "11\n",
      "7\n",
      "5\n",
      "9\n",
      "3\n",
      "9\n",
      "1\n",
      "1\n",
      "3\n",
      "1\n",
      "5\n",
      "1\n",
      "3\n",
      "7\n",
      "7\n",
      "3\n",
      "5\n",
      "5\n",
      "9\n",
      "5\n",
      "3\n",
      "1\n",
      "3\n",
      "3\n",
      "1\n",
      "9\n",
      "1\n",
      "1\n",
      "7\n",
      "1\n",
      "5\n",
      "5\n",
      "1\n",
      "9\n",
      "9\n",
      "3\n",
      "7\n",
      "1\n",
      "11\n",
      "3\n",
      "7\n",
      "7\n",
      "1\n",
      "5\n",
      "11\n",
      "7\n",
      "7\n",
      "1\n",
      "5\n",
      "3\n",
      "7\n",
      "5\n",
      "3\n",
      "7\n",
      "3\n",
      "7\n",
      "1\n",
      "11\n",
      "7\n",
      "3\n",
      "1\n",
      "7\n",
      "7\n",
      "7\n",
      "11\n",
      "5\n",
      "5\n",
      "3\n",
      "1\n",
      "3\n",
      "7\n",
      "9\n",
      "1\n",
      "5\n",
      "3\n",
      "11\n",
      "5\n",
      "5\n",
      "5\n",
      "1\n",
      "7\n",
      "3\n",
      "5\n",
      "5\n",
      "3\n",
      "3\n",
      "9\n",
      "9\n",
      "7\n",
      "5\n",
      "9\n",
      "1\n"
     ]
    }
   ],
   "source": [
    "for i in dataset:\n",
    "    print(len(i['obs']))"
   ]
  },
  {
   "cell_type": "code",
   "execution_count": 60,
   "id": "4182c024",
   "metadata": {},
   "outputs": [
    {
     "data": {
      "text/plain": [
       "[{'role': 'user',\n",
       "  'content': 'You are a language wizard who likes to guess words by using the given rules.\\n\\nWelcome to Wordle! You have six attempts to guess the target word, a valid English word of five lowercase letters (a-z). Please use the tags \"explanation:\" and \"guess:\" to provide a concise explanation for each guess.\\n\\nFor instance, if your guess is \"apple\", your response should be\\nexplanation: this is a common five-letter English word, and I am starting my guess with this word.\\nguess: apple\\n\\nAfter each guess, your answer will be validated, and you will receive feedback indicating which letters are correct (green), which letters are correct but in the wrong position (yellow), and which letters are incorrect (red). This feedback can be useful in determining which letters to include or exclude in your next guess.\\n\\nFor example, the feedback for \"apple\" might be:\\nguess_feedback: a<yellow> p<yellow> p<green> l<yellow> e<red>\\n\\nThe explanation should contain details about how the guess_feedback is used to arrive at a new guess.\\n\\nDo not generate any other text.\\n\\nLet\\'s begin with your first guess.'},\n",
       " {'role': 'assistant',\n",
       "  'content': 'explanation: this is a random guess of a five-letter English word.\\nguess: house'},\n",
       " {'role': 'user',\n",
       "  'content': 'guess_feedback: h<red> o<red> u<red> s<red> e<red>\\n\\nProvide your response only in this format.\\nexplanation: details\\nguess: word'}]"
      ]
     },
     "execution_count": 60,
     "metadata": {},
     "output_type": "execute_result"
    }
   ],
   "source": [
    "dataset[-1]['next_obs']"
   ]
  },
  {
   "cell_type": "code",
   "execution_count": 87,
   "id": "6340d7b4",
   "metadata": {},
   "outputs": [
    {
     "data": {
      "text/plain": [
       "tensor(10.)"
      ]
     },
     "execution_count": 87,
     "metadata": {},
     "output_type": "execute_result"
    }
   ],
   "source": [
    "dataset[5]['reward']"
   ]
  },
  {
   "cell_type": "code",
   "execution_count": 88,
   "id": "d84320f5",
   "metadata": {},
   "outputs": [
    {
     "data": {
      "text/plain": [
       "[{'role': 'assistant',\n",
       "  'content': 'explanation: The letter \"e\" and \"t\" remain in the correct word, with \"e\" not in the correct position and \"t\" in the correct position, and the letters \"v\" and \"n\" are incorrect, however \"n\" is in the word but in a wrong position, my next guess should try \"e\" in a different position and keep \"t\" in its correct position, and see if \"n\" can fit in a different spot.\\nguess: benty'}]"
      ]
     },
     "execution_count": 88,
     "metadata": {},
     "output_type": "execute_result"
    }
   ],
   "source": [
    "dataset[5]['action']"
   ]
  },
  {
   "cell_type": "code",
   "execution_count": 89,
   "id": "14357b09",
   "metadata": {},
   "outputs": [
    {
     "data": {
      "text/plain": [
       "[{'role': 'user',\n",
       "  'content': 'You are a language wizard who likes to guess words by using the given rules.\\n\\nWelcome to Wordle! You have six attempts to guess the target word, a valid English word of five lowercase letters (a-z). Please use the tags \"explanation:\" and \"guess:\" to provide a concise explanation for each guess.\\n\\nFor instance, if your guess is \"apple\", your response should be\\nexplanation: this is a common five-letter English word, and I am starting my guess with this word.\\nguess: apple\\n\\nAfter each guess, your answer will be validated, and you will receive feedback indicating which letters are correct (green), which letters are correct but in the wrong position (yellow), and which letters are incorrect (red). This feedback can be useful in determining which letters to include or exclude in your next guess.\\n\\nFor example, the feedback for \"apple\" might be:\\nguess_feedback: a<yellow> p<yellow> p<green> l<yellow> e<red>\\n\\nThe explanation should contain details about how the guess_feedback is used to arrive at a new guess.\\n\\nDo not generate any other text.\\n\\nLet\\'s begin with your first guess.'},\n",
       " {'role': 'assistant',\n",
       "  'content': \"explanation: I'm choosing a common, short word in English that could have various combinations of letters in the correct word, so I'm starting with a well-known short word.\\nguess: house\"},\n",
       " {'role': 'user',\n",
       "  'content': 'guess_feedback: h<red> o<red> u<red> s<red> e<yellow>\\n\\nProvide your response only in this format.\\nexplanation: details\\nguess: word'},\n",
       " {'role': 'assistant',\n",
       "  'content': 'explanation: Since \"house\" was completely incorrect except for the letter \"e\", which is in the correct word but not in the correct position, and all the other letters were incorrect, my next guess should focus on common words containing \"e\" but have distinct letters that were not in the previous guess.\\nguess: steak'},\n",
       " {'role': 'user',\n",
       "  'content': 'guess_feedback: s<red> t<yellow> e<yellow> a<red> k<red>\\n\\nProvide your response only in this format.\\nexplanation: details\\nguess: word'},\n",
       " {'role': 'assistant',\n",
       "  'content': 'explanation: The letters \"t\" and \"e\" appear in the word but are not in the correct positions, and \"s\", \"a\", and \"k\" are incorrect, which means my next guess should include \"t\" and \"e\" but try different combinations for these letters and exclude \"s\", \"a\", and \"k\".\\nguess: tempt'},\n",
       " {'role': 'user',\n",
       "  'content': 'guess_feedback: t<red> e<yellow> m<red> p<red> t<green>\\n\\nProvide your response only in this format.\\nexplanation: details\\nguess: word'},\n",
       " {'role': 'assistant',\n",
       "  'content': 'explanation: The letter \"t\" was incorrect in the previous guess, but it appears in the correct word now in the correct position, and \"e\" is still in the word but not in the correct position, and \"m\", \"p\" were incorrect, however \"t\" is now in the correct position, my next guess should include \"e\" in a different position and keep \"t\" in its current correct position.\\nguess: event'},\n",
       " {'role': 'user',\n",
       "  'content': 'guess_feedback: e<yellow> v<red> e<red> n<yellow> t<green>\\n\\nProvide your response only in this format.\\nexplanation: details\\nguess: word'}]"
      ]
     },
     "execution_count": 89,
     "metadata": {},
     "output_type": "execute_result"
    }
   ],
   "source": [
    "dataset[5]['obs']"
   ]
  },
  {
   "cell_type": "code",
   "execution_count": 90,
   "id": "49221222",
   "metadata": {},
   "outputs": [
    {
     "data": {
      "text/plain": [
       "[{'role': 'user',\n",
       "  'content': 'You are a language wizard who likes to guess words by using the given rules.\\n\\nWelcome to Wordle! You have six attempts to guess the target word, a valid English word of five lowercase letters (a-z). Please use the tags \"explanation:\" and \"guess:\" to provide a concise explanation for each guess.\\n\\nFor instance, if your guess is \"apple\", your response should be\\nexplanation: this is a common five-letter English word, and I am starting my guess with this word.\\nguess: apple\\n\\nAfter each guess, your answer will be validated, and you will receive feedback indicating which letters are correct (green), which letters are correct but in the wrong position (yellow), and which letters are incorrect (red). This feedback can be useful in determining which letters to include or exclude in your next guess.\\n\\nFor example, the feedback for \"apple\" might be:\\nguess_feedback: a<yellow> p<yellow> p<green> l<yellow> e<red>\\n\\nThe explanation should contain details about how the guess_feedback is used to arrive at a new guess.\\n\\nDo not generate any other text.\\n\\nLet\\'s begin with your first guess.'},\n",
       " {'role': 'assistant',\n",
       "  'content': \"explanation: I'm choosing a common, short word in English that could have various combinations of letters in the correct word, so I'm starting with a well-known short word.\\nguess: house\"},\n",
       " {'role': 'user',\n",
       "  'content': 'guess_feedback: h<red> o<red> u<red> s<red> e<yellow>\\n\\nProvide your response only in this format.\\nexplanation: details\\nguess: word'},\n",
       " {'role': 'assistant',\n",
       "  'content': 'explanation: Since \"house\" was completely incorrect except for the letter \"e\", which is in the correct word but not in the correct position, and all the other letters were incorrect, my next guess should focus on common words containing \"e\" but have distinct letters that were not in the previous guess.\\nguess: steak'},\n",
       " {'role': 'user',\n",
       "  'content': 'guess_feedback: s<red> t<yellow> e<yellow> a<red> k<red>\\n\\nProvide your response only in this format.\\nexplanation: details\\nguess: word'},\n",
       " {'role': 'assistant',\n",
       "  'content': 'explanation: The letters \"t\" and \"e\" appear in the word but are not in the correct positions, and \"s\", \"a\", and \"k\" are incorrect, which means my next guess should include \"t\" and \"e\" but try different combinations for these letters and exclude \"s\", \"a\", and \"k\".\\nguess: tempt'},\n",
       " {'role': 'user',\n",
       "  'content': 'guess_feedback: t<red> e<yellow> m<red> p<red> t<green>\\n\\nProvide your response only in this format.\\nexplanation: details\\nguess: word'},\n",
       " {'role': 'assistant',\n",
       "  'content': 'explanation: The letter \"t\" was incorrect in the previous guess, but it appears in the correct word now in the correct position, and \"e\" is still in the word but not in the correct position, and \"m\", \"p\" were incorrect, however \"t\" is now in the correct position, my next guess should include \"e\" in a different position and keep \"t\" in its current correct position.\\nguess: event'},\n",
       " {'role': 'user',\n",
       "  'content': 'guess_feedback: e<yellow> v<red> e<red> n<yellow> t<green>\\n\\nProvide your response only in this format.\\nexplanation: details\\nguess: word'},\n",
       " {'role': 'assistant',\n",
       "  'content': 'explanation: The letter \"e\" and \"t\" remain in the correct word, with \"e\" not in the correct position and \"t\" in the correct position, and the letters \"v\" and \"n\" are incorrect, however \"n\" is in the word but in a wrong position, my next guess should try \"e\" in a different position and keep \"t\" in its correct position, and see if \"n\" can fit in a different spot.\\nguess: benty'},\n",
       " {'role': 'user',\n",
       "  'content': 'guess_feedback: b<red> e<yellow> n<yellow> t<yellow> y<red>\\n\\nProvide your response only in this format.\\nexplanation: details\\nguess: word'}]"
      ]
     },
     "execution_count": 90,
     "metadata": {},
     "output_type": "execute_result"
    }
   ],
   "source": [
    "dataset[5]['next_obs']"
   ]
  },
  {
   "cell_type": "code",
   "execution_count": 81,
   "id": "1a75261f",
   "metadata": {},
   "outputs": [
    {
     "data": {
      "text/plain": [
       "tensor(True)"
      ]
     },
     "execution_count": 81,
     "metadata": {},
     "output_type": "execute_result"
    }
   ],
   "source": [
    "dataset[1]['done']"
   ]
  },
  {
   "cell_type": "code",
   "execution_count": 82,
   "id": "afc11fc6",
   "metadata": {},
   "outputs": [
    {
     "data": {
      "text/plain": [
       "dict_keys(['obs', 'action', 'reward', 'next_obs', 'done'])"
      ]
     },
     "execution_count": 82,
     "metadata": {},
     "output_type": "execute_result"
    }
   ],
   "source": [
    "dataset[1].keys()"
   ]
  },
  {
   "cell_type": "code",
   "execution_count": 91,
   "id": "38dfd929",
   "metadata": {},
   "outputs": [
    {
     "name": "stdout",
     "output_type": "stream",
     "text": [
      "Dataset loaded successfully: <dataloaders.playpen_dataloader.FlatBufferDataset object at 0x70a816a83760>\n"
     ]
    }
   ],
   "source": [
    "import pickle\n",
    "import sys\n",
    "from torch.utils.data import DataLoader\n",
    "\n",
    "sys.path.append(\"/home/users/dristic/project/Archer\")\n",
    "\n",
    "# from multiturn_rl.dataloaders.playpen_dataloader import FlatBufferDataset, custom_collate_fn\n",
    "from multiturn_rl import dataloaders\n",
    "import pickle\n",
    "\n",
    "sys.modules['dataloaders'] = dataloaders\n",
    "with open(\"/home/users/dristic/project/Archer/critic_dataset.pkl\", \"rb\") as f:\n",
    "    nds = pickle.load(f)\n",
    "\n",
    "print(\"Dataset loaded successfully:\", nds)"
   ]
  },
  {
   "cell_type": "code",
   "execution_count": 97,
   "id": "2bf44980",
   "metadata": {},
   "outputs": [
    {
     "data": {
      "text/plain": [
       "tensor(-10.)"
      ]
     },
     "execution_count": 97,
     "metadata": {},
     "output_type": "execute_result"
    }
   ],
   "source": [
    "nds[1]['reward']"
   ]
  },
  {
   "cell_type": "code",
   "execution_count": 99,
   "id": "008e1435",
   "metadata": {},
   "outputs": [
    {
     "data": {
      "text/plain": [
       "[{'role': 'assistant',\n",
       "  'content': \"explanation: g is now green, and both i and e are also green, which means the word contains these letters. With l being red and d being red, these letters are eliminated. Since i and e are correct, and they're often paired in words, I'll try another word that includes these letters.\\nguess: hike\"}]"
      ]
     },
     "execution_count": 99,
     "metadata": {},
     "output_type": "execute_result"
    }
   ],
   "source": [
    "nds[1]['action']"
   ]
  },
  {
   "cell_type": "code",
   "execution_count": 100,
   "id": "2275592b",
   "metadata": {},
   "outputs": [
    {
     "data": {
      "text/plain": [
       "tensor(True)"
      ]
     },
     "execution_count": 100,
     "metadata": {},
     "output_type": "execute_result"
    }
   ],
   "source": [
    "nds[1]['done']"
   ]
  },
  {
   "cell_type": "code",
   "execution_count": 101,
   "id": "10ac2535",
   "metadata": {},
   "outputs": [
    {
     "data": {
      "text/plain": [
       "[{'role': 'user',\n",
       "  'content': 'You are a language wizard who likes to guess words by using the given rules.\\n\\nWelcome to Wordle! You have six attempts to guess the target word, a valid English word of five lowercase letters (a-z). Please use the tags \"explanation:\" and \"guess:\" to provide a concise explanation for each guess.\\n\\nFor instance, if your guess is \"apple\", your response should be\\nexplanation: this is a common five-letter English word, and I am starting my guess with this word.\\nguess: apple\\n\\nAfter each guess, your answer will be validated, and you will receive feedback indicating which letters are correct (green), which letters are correct but in the wrong position (yellow), and which letters are incorrect (red). This feedback can be useful in determining which letters to include or exclude in your next guess.\\n\\nFor example, the feedback for \"apple\" might be:\\nguess_feedback: a<yellow> p<yellow> p<green> l<yellow> e<red>\\n\\nThe explanation should contain details about how the guess_feedback is used to arrive at a new guess.\\n\\nDo not generate any other text.\\n\\nLet\\'s begin with your first guess.'},\n",
       " {'role': 'assistant',\n",
       "  'content': 'explanation: my first guess is a commonly used five-letter word in English that starts with a vowel to maximize the chance of getting at least one letter right.\\nguess: eagle'},\n",
       " {'role': 'user',\n",
       "  'content': 'guess_feedback: e<red> a<red> g<yellow> l<red> e<red>\\n\\nProvide your response only in this format.\\nexplanation: details\\nguess: word'},\n",
       " {'role': 'assistant',\n",
       "  'content': \"explanation: with e and a both being red, I'm focusing on letters that are often used in words, and since g is yellow, it's likely a common letter in the word. I'm also trying a new vowel, and a letter that is commonly paired with g in words.\\nguess: glide\"},\n",
       " {'role': 'user',\n",
       "  'content': 'guess_feedback: g<green> l<red> i<green> d<red> e<red>\\n\\nProvide your response only in this format.\\nexplanation: details\\nguess: word'}]"
      ]
     },
     "execution_count": 101,
     "metadata": {},
     "output_type": "execute_result"
    }
   ],
   "source": [
    "nds[1]['obs']"
   ]
  },
  {
   "cell_type": "code",
   "execution_count": null,
   "id": "c7cce0cf",
   "metadata": {},
   "outputs": [],
   "source": []
  }
 ],
 "metadata": {
  "kernelspec": {
   "display_name": ".venv",
   "language": "python",
   "name": "python3"
  },
  "language_info": {
   "codemirror_mode": {
    "name": "ipython",
    "version": 3
   },
   "file_extension": ".py",
   "mimetype": "text/x-python",
   "name": "python",
   "nbconvert_exporter": "python",
   "pygments_lexer": "ipython3",
   "version": "3.10.12"
  }
 },
 "nbformat": 4,
 "nbformat_minor": 5
}
